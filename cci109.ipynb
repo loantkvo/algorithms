{
 "cells": [
  {
   "cell_type": "markdown",
   "metadata": {},
   "source": [
    "Cracking the Coding Interview (6th Edition) - 1.9 page 90"
   ]
  },
  {
   "cell_type": "code",
   "execution_count": 20,
   "metadata": {},
   "outputs": [],
   "source": [
    "def isSub(string, sub):\n",
    "    return string.find(sub) != -1\n",
    "\n",
    "def check_rotating_string(s1, s2):\n",
    "    #print(s2+s2, s1, isSub(s2+s2, s1))\n",
    "    return len(s1)==len(s2) and isSub(s2+s2, s1)"
   ]
  },
  {
   "cell_type": "code",
   "execution_count": 21,
   "metadata": {},
   "outputs": [
    {
     "name": "stdout",
     "output_type": "stream",
     "text": [
      "True\n",
      "True\n",
      "True\n",
      "True\n"
     ]
    }
   ],
   "source": [
    "data = [\n",
    "        ('waterbottle', 'erbottlewat', True),\n",
    "        ('foo', 'bar', False),\n",
    "        ('foo', 'foofoo', False),\n",
    "        ('', '', True)\n",
    "    ]\n",
    "for s1, s2, status in data:\n",
    "    my_status = check_rotating_string(s1, s2)\n",
    "    print(my_status == status)"
   ]
  }
 ],
 "metadata": {
  "kernelspec": {
   "display_name": "Python 3",
   "language": "python",
   "name": "python3"
  },
  "language_info": {
   "codemirror_mode": {
    "name": "ipython",
    "version": 3
   },
   "file_extension": ".py",
   "mimetype": "text/x-python",
   "name": "python",
   "nbconvert_exporter": "python",
   "pygments_lexer": "ipython3",
   "version": "3.7.0"
  }
 },
 "nbformat": 4,
 "nbformat_minor": 2
}
