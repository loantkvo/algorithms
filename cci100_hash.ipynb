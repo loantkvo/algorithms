{
 "cells": [
  {
   "cell_type": "markdown",
   "metadata": {},
   "source": [
    "\n",
    "## Hash tables with separate chaining\n",
    "\n",
    "A good and brief discussion about hash table: https://www.hackerearth.com/practice/data-structures/hash-tables/basics-of-hash-tables/tutorial/"
   ]
  },
  {
   "cell_type": "markdown",
   "metadata": {},
   "source": [
    "### 1. Node and LinkedList"
   ]
  },
  {
   "cell_type": "code",
   "execution_count": 1,
   "metadata": {},
   "outputs": [],
   "source": [
    "class Node:\n",
    "    def __init__(self, data):\n",
    "        self.data = data\n",
    "        self.next = None\n",
    "        \n",
    "    def set_next(self, next_node):\n",
    "        self.next = next_node\n",
    "        \n",
    "        \n",
    "class LinkedList:\n",
    "    def __init__(self, first_node):\n",
    "        self.head = first_node\n",
    "    \n",
    "    def insert_to_head(self, node):\n",
    "        node.set_next(self.head)\n",
    "        self.head = node\n",
    "        \n",
    "    def search(self, target, extract_target_func=lambda x: x):\n",
    "        current_node = self.head\n",
    "        while current_node!=None:\n",
    "            if extract_target_func(current_node.data) == target:\n",
    "                return current_node.data\n",
    "            current_node = current_node.next\n",
    "        return None\n",
    "        \n",
    "    def __repr__(self):\n",
    "        result = ''\n",
    "        current_node = self.head\n",
    "        while current_node!=None:\n",
    "            result += '-->' + str(current_node.data)\n",
    "            current_node = current_node.next\n",
    "        return result[3:]\n",
    "    "
   ]
  },
  {
   "cell_type": "code",
   "execution_count": 2,
   "metadata": {},
   "outputs": [
    {
     "name": "stdout",
     "output_type": "stream",
     "text": [
      "c-->b-->1-->a-->2\n"
     ]
    }
   ],
   "source": [
    "# Test Node and LinkedList constructors\n",
    "node_a = Node('a')\n",
    "node_b = Node('b')\n",
    "node_c = Node('c')\n",
    "node_1 = Node(1)\n",
    "node_2 = Node(2)\n",
    "myll = LinkedList(node_2)\n",
    "myll.insert_to_head(node_a)\n",
    "myll.insert_to_head(node_1)\n",
    "myll.insert_to_head(node_b)\n",
    "myll.insert_to_head(node_c)\n",
    "print(myll)"
   ]
  },
  {
   "cell_type": "markdown",
   "metadata": {},
   "source": [
    "### 2. Hash table with separate chaining"
   ]
  },
  {
   "cell_type": "code",
   "execution_count": 3,
   "metadata": {},
   "outputs": [],
   "source": [
    "from math import sqrt\n",
    "\n",
    "def isprime(n):\n",
    "    if n%2==0:\n",
    "        return False\n",
    "    for m in range(3, int(sqrt(n))+1, 2):\n",
    "        if n%m==0:\n",
    "            return False\n",
    "    return True\n",
    "\n",
    "def get_hash_table_len(n):\n",
    "    hash_table_len = n + n%2*2 + (1-n%2)\n",
    "    while not isprime(hash_table_len):\n",
    "        hash_table_len += 2\n",
    "    return hash_table_len\n",
    "\n",
    "def hashfunc(key):\n",
    "    index = key\n",
    "    return index\n",
    "\n",
    "\n",
    "class Hash_With_Separate_Chaining:\n",
    "    def __init__(self, table_length):\n",
    "        self.len = table_length\n",
    "        self.tab = [None for _ in range(table_length)]\n",
    "    \n",
    "    def insert(self, key, data):\n",
    "        new_node = Node(data)\n",
    "        hash_index = hashfunc(key) % self.len\n",
    "        if self.tab[hash_index] is None:\n",
    "            self.tab[hash_index] = LinkedList(new_node)\n",
    "        else:\n",
    "            self.tab[hash_index].insert_to_head(new_node)\n",
    "            \n",
    "    def search(self, key, extract_target_func=lambda x: x):\n",
    "        hash_index = hashfunc(key) % self.len\n",
    "        if self.tab[hash_index]==None:\n",
    "            result = \"Found no item\"\n",
    "        else:\n",
    "            result = self.tab[hash_index].search(key, extract_target_func)\n",
    "            if result == None:\n",
    "                result = \"Found no item\"\n",
    "            else:\n",
    "                result = result[1]\n",
    "        return result\n",
    "            \n",
    "    def __repr__(self):\n",
    "        return '\\n'.join([str(index) + \": \" + str(ll) for index, ll in enumerate(self.tab)])\n",
    "        "
   ]
  },
  {
   "cell_type": "code",
   "execution_count": 4,
   "metadata": {},
   "outputs": [
    {
     "name": "stdout",
     "output_type": "stream",
     "text": [
      "[(1, 'vasya'), (2, 'petya'), (3, 'kolya'), (4, 'limak'), (5, 'illya'), (8, 'newname')]\n",
      "[1, 2, 8]\n"
     ]
    }
   ],
   "source": [
    "inputs = [(1, 'vasya'), (2, 'petya'), (3, 'kolya'), (4, 'limak'), (5, 'illya'), (8, 'newname')]\n",
    "querries = [1, 2, 8]\n",
    "n = len(inputs)\n",
    "print(inputs)\n",
    "print(querries)"
   ]
  },
  {
   "cell_type": "code",
   "execution_count": 5,
   "metadata": {},
   "outputs": [
    {
     "name": "stdout",
     "output_type": "stream",
     "text": [
      "1 : vasya\n",
      "2 : petya\n",
      "8 : newname\n"
     ]
    }
   ],
   "source": [
    "roll_name_table = Hash_With_Separate_Chaining(get_hash_table_len(n))\n",
    "for roll, name in inputs:\n",
    "    roll_name_table.insert(roll, (roll, name))\n",
    "\n",
    "for querry in querries:\n",
    "    print(querry, \":\", roll_name_table.search(querry, lambda x: x[0]))"
   ]
  }
 ],
 "metadata": {
  "kernelspec": {
   "display_name": "Python 3",
   "language": "python",
   "name": "python3"
  },
  "language_info": {
   "codemirror_mode": {
    "name": "ipython",
    "version": 3
   },
   "file_extension": ".py",
   "mimetype": "text/x-python",
   "name": "python",
   "nbconvert_exporter": "python",
   "pygments_lexer": "ipython3",
   "version": "3.7.0"
  }
 },
 "nbformat": 4,
 "nbformat_minor": 2
}
