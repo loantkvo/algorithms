{
 "cells": [
  {
   "cell_type": "code",
   "execution_count": 1,
   "metadata": {},
   "outputs": [],
   "source": [
    "%load_ext autoreload\n",
    "%autoreload 1\n",
    "%aimport lib.LinkedList\n",
    "from lib.LinkedList import DoublyLinkedList, LinkedList"
   ]
  },
  {
   "cell_type": "markdown",
   "metadata": {},
   "source": [
    "# 1. Using buffer"
   ]
  },
  {
   "cell_type": "code",
   "execution_count": 2,
   "metadata": {},
   "outputs": [],
   "source": [
    "def remove_duplicate_in_doubly_linked_list(ll):\n",
    "    curr = ll.head\n",
    "    buffer = set()\n",
    "    while curr.next is not None:#not reach the tail yet      \n",
    "        if curr.value in buffer:\n",
    "            curr.prev.next = curr.next\n",
    "            curr.next.prev = curr.prev\n",
    "        else:\n",
    "            buffer.add(curr.value)\n",
    "        curr = curr.next\n",
    "    #tail node:\n",
    "    if curr.value in buffer:\n",
    "        curr.prev.next = None\n",
    "    return ll"
   ]
  },
  {
   "cell_type": "code",
   "execution_count": 3,
   "metadata": {},
   "outputs": [],
   "source": [
    "def remove_duplicate_in_singly_linked_list(ll):\n",
    "    prev = ll.head\n",
    "    if prev is None:\n",
    "        return ll\n",
    "    buffer = set([prev.value])\n",
    "    curr = prev.next\n",
    "    while curr is not None:#not reach the tail yet  \n",
    "        if curr.value in buffer:\n",
    "            prev.next = curr.next\n",
    "        else:\n",
    "            buffer.add(curr.value)\n",
    "            prev = curr\n",
    "        curr = curr.next\n",
    "    return ll"
   ]
  },
  {
   "cell_type": "code",
   "execution_count": 4,
   "metadata": {},
   "outputs": [
    {
     "name": "stdout",
     "output_type": "stream",
     "text": [
      "9-->0-->6-->7-->9-->0-->3-->7-->7-->4-->2-->0-->8-->7-->5-->1-->3-->5-->0-->6-->2-->9-->5-->6-->6-->4-->4-->7-->2-->4-->5-->2-->7-->3-->7-->9-->6-->0-->9-->0-->3-->2-->3-->4-->8-->5-->3-->5-->8-->7-->6-->7-->1-->9-->5-->8-->2-->3-->6-->3-->0-->0-->7-->4-->9-->1-->8-->1-->2-->6-->9-->5-->9-->2-->1-->1-->7-->2-->3-->5-->6-->6-->7-->3-->4-->2-->9-->8-->2-->1-->4-->7-->4-->2-->2-->2-->7-->5-->5-->6\n",
      "Output:  9-->0-->6-->7-->3-->4-->2-->8-->5-->1\n"
     ]
    }
   ],
   "source": [
    "ll = DoublyLinkedList()\n",
    "ll.generate(100, 0, 9)\n",
    "print(ll)\n",
    "remove_duplicate_in_doubly_linked_list(ll)\n",
    "print(\"Output: \", ll)"
   ]
  },
  {
   "cell_type": "code",
   "execution_count": 5,
   "metadata": {},
   "outputs": [
    {
     "name": "stdout",
     "output_type": "stream",
     "text": [
      "9-->0-->6-->7-->9-->0-->3-->7-->7-->4-->2-->0-->8-->7-->5-->1-->3-->5-->0-->6-->2-->9-->5-->6-->6-->4-->4-->7-->2-->4-->5-->2-->7-->3-->7-->9-->6-->0-->9-->0-->3-->2-->3-->4-->8-->5-->3-->5-->8-->7-->6-->7-->1-->9-->5-->8-->2-->3-->6-->3-->0-->0-->7-->4-->9-->1-->8-->1-->2-->6-->9-->5-->9-->2-->1-->1-->7-->2-->3-->5-->6-->6-->7-->3-->4-->2-->9-->8-->2-->1-->4-->7-->4-->2-->2-->2-->7-->5-->5-->6\n",
      "Output:  9-->0-->6-->7-->3-->4-->2-->8-->5-->1\n"
     ]
    }
   ],
   "source": [
    "ll = LinkedList()\n",
    "ll.generate(100, 0, 9)\n",
    "print(ll)\n",
    "remove_duplicate_in_singly_linked_list(ll)\n",
    "print(\"Output: \", ll)"
   ]
  },
  {
   "cell_type": "markdown",
   "metadata": {},
   "source": [
    "# 2. No buffer"
   ]
  },
  {
   "cell_type": "code",
   "execution_count": 6,
   "metadata": {},
   "outputs": [],
   "source": [
    "def remove_duplicate_in_linked_list_without_buffer(ll):\n",
    "    for curr in ll:\n",
    "        runner = curr\n",
    "        while runner.next is not None:\n",
    "            if curr.value == runner.next.value:\n",
    "                runner.next = runner.next.next\n",
    "            else:\n",
    "                runner = runner.next\n",
    "    return ll"
   ]
  },
  {
   "cell_type": "code",
   "execution_count": 7,
   "metadata": {},
   "outputs": [
    {
     "name": "stdout",
     "output_type": "stream",
     "text": [
      "9-->0-->6-->7-->9-->0-->3-->7-->7-->4-->2-->0-->8-->7-->5-->1-->3-->5-->0-->6-->2-->9-->5-->6-->6-->4-->4-->7-->2-->4-->5-->2-->7-->3-->7-->9-->6-->0-->9-->0-->3-->2-->3-->4-->8-->5-->3-->5-->8-->7-->6-->7-->1-->9-->5-->8-->2-->3-->6-->3-->0-->0-->7-->4-->9-->1-->8-->1-->2-->6-->9-->5-->9-->2-->1-->1-->7-->2-->3-->5-->6-->6-->7-->3-->4-->2-->9-->8-->2-->1-->4-->7-->4-->2-->2-->2-->7-->5-->5-->6\n",
      "Output: 9-->0-->6-->7-->3-->4-->2-->8-->5-->1\n"
     ]
    }
   ],
   "source": [
    "ll = LinkedList()\n",
    "#print(ll.head)\n",
    "ll.generate(100, 0, 9)\n",
    "print(ll)\n",
    "remove_duplicate_in_linked_list_without_buffer(ll)\n",
    "print(\"Output:\", ll)"
   ]
  },
  {
   "cell_type": "code",
   "execution_count": null,
   "metadata": {},
   "outputs": [],
   "source": []
  }
 ],
 "metadata": {
  "kernelspec": {
   "display_name": "Python 3",
   "language": "python",
   "name": "python3"
  },
  "language_info": {
   "codemirror_mode": {
    "name": "ipython",
    "version": 3
   },
   "file_extension": ".py",
   "mimetype": "text/x-python",
   "name": "python",
   "nbconvert_exporter": "python",
   "pygments_lexer": "ipython3",
   "version": "3.7.0"
  }
 },
 "nbformat": 4,
 "nbformat_minor": 2
}
