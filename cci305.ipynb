{
 "cells": [
  {
   "cell_type": "code",
   "execution_count": 1,
   "metadata": {},
   "outputs": [
    {
     "name": "stdout",
     "output_type": "stream",
     "text": [
      "\n",
      "4, 18, 65, 34, 11, 18, 32, 6, 38, 61\n",
      "4, 18, 65, 34, 11\n",
      "4, 18, 65, 34, 11, 4, 10, 6, 0, 7\n",
      "A peek at the top of the stack: 7\n"
     ]
    }
   ],
   "source": [
    "from lib.Stack import MyStack"
   ]
  },
  {
   "cell_type": "code",
   "execution_count": 2,
   "metadata": {},
   "outputs": [],
   "source": [
    "def sort_stack(stack):\n",
    "    if not stack.is_empty():\n",
    "        unsorted_val = stack.pop()\n",
    "        sort_stack(stack)\n",
    "    else:\n",
    "        return stack\n",
    "    #The stack variable in the below codes has been already sorted\n",
    "    #The below codes is for insert the 'unsorted_val' into the right possition of the sorted stack \n",
    "    buffer = MyStack()\n",
    "    while not stack.is_empty(): #by the end of this while loop, buffer contains all items that smaller than unsorted_val\n",
    "                               #the remain items, if any, in the stack are larger than unsorted_val\n",
    "                               #the variable top might also be an items that larger than unsorted_val\n",
    "        top = stack.peek()\n",
    "        if top<=unsorted_val:\n",
    "            buffer.push(stack.pop())\n",
    "        else:\n",
    "            break\n",
    "    #push the unsorted_val into its correct place in the stack\n",
    "    stack.push(unsorted_val)\n",
    "    #Moving back the smaller items contained in buffer\n",
    "    while not buffer.is_empty():\n",
    "        stack.push(buffer.pop())\n",
    "        \n",
    "    return stack\n",
    "        \n",
    "        \n",
    "            "
   ]
  },
  {
   "cell_type": "code",
   "execution_count": 3,
   "metadata": {},
   "outputs": [
    {
     "name": "stdout",
     "output_type": "stream",
     "text": [
      "Unsorted: 85, 75, 66, 81, 40, 13, 25, 98, 34, 83, 32, 3\n",
      "Sorted: 98, 85, 83, 81, 75, 66, 40, 34, 32, 25, 13, 3\n"
     ]
    }
   ],
   "source": [
    "import random\n",
    "\n",
    "s = MyStack([random.randint(0, 100) for _ in range(12)])\n",
    "print(\"Unsorted:\", s)\n",
    "print(\"Sorted:\", sort_stack(s))"
   ]
  },
  {
   "cell_type": "code",
   "execution_count": null,
   "metadata": {},
   "outputs": [],
   "source": []
  }
 ],
 "metadata": {
  "kernelspec": {
   "display_name": "Python 3",
   "language": "python",
   "name": "python3"
  },
  "language_info": {
   "codemirror_mode": {
    "name": "ipython",
    "version": 3
   },
   "file_extension": ".py",
   "mimetype": "text/x-python",
   "name": "python",
   "nbconvert_exporter": "python",
   "pygments_lexer": "ipython3",
   "version": "3.7.0"
  }
 },
 "nbformat": 4,
 "nbformat_minor": 2
}
