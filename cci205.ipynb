{
 "cells": [
  {
   "cell_type": "code",
   "execution_count": 1,
   "metadata": {},
   "outputs": [],
   "source": [
    "%load_ext autoreload\n",
    "%autoreload 1\n",
    "%aimport lib.LinkedList\n",
    "from lib.LinkedList import LinkedList"
   ]
  },
  {
   "cell_type": "code",
   "execution_count": 2,
   "metadata": {},
   "outputs": [],
   "source": [
    "def get_sum_linked_list(ll1, ll2):\n",
    "    digit1 = ll1.head\n",
    "    digit2 = ll2.head\n",
    "    ll = LinkedList()\n",
    "    carry = 0\n",
    "    while digit1 is not None and digit2 is not None:\n",
    "        digit_sum = digit1.value + digit2.value + carry\n",
    "        carry = digit_sum//10\n",
    "        ll.add(digit_sum%10)\n",
    "        digit1 = digit1.next\n",
    "        digit2 = digit2.next\n",
    "    digit = digit1 if digit1 is not None else digit2\n",
    "    while digit is not None:\n",
    "        digit_sum = digit.value + carry\n",
    "        carry = digit_sum//10\n",
    "        ll.add(digit_sum%10)\n",
    "        digit = digit.next\n",
    "    if carry==1:\n",
    "        ll.add(1)\n",
    "    return ll"
   ]
  },
  {
   "cell_type": "code",
   "execution_count": 3,
   "metadata": {},
   "outputs": [
    {
     "name": "stdout",
     "output_type": "stream",
     "text": [
      "9-->0-->6-->7\n",
      "9-->9-->8-->4\n",
      "8-->0-->5-->2-->1\n"
     ]
    }
   ],
   "source": [
    "ll_a = LinkedList()\n",
    "ll_a.generate(4, 0, 9)\n",
    "ll_b = LinkedList()\n",
    "#ll_b.generate(3, 0, 9)\n",
    "ll_b.add_multiple([9, 9, 8, 4])\n",
    "print(ll_a)\n",
    "print(ll_b)\n",
    "print(get_sum_linked_list(ll_a, ll_b))\n"
   ]
  },
  {
   "cell_type": "code",
   "execution_count": 4,
   "metadata": {},
   "outputs": [],
   "source": [
    "def get_sum_forward_order_linked_list(ll1, ll2):\n",
    "    n1 = ll1.head\n",
    "    n2 = ll2.head\n",
    "    num1 = num2 = 0\n",
    "    while n1 is not None or n2 is not None:\n",
    "        if n1 is not None:\n",
    "            num1 = num1*10 + n1.value\n",
    "            n1 = n1.next\n",
    "        if n2 is not None:\n",
    "            num2 = num2*10 + n2.value\n",
    "            n2 = n2.next\n",
    "    result =  list(map(int, str(num1 + num2)))\n",
    "    ll = LinkedList()\n",
    "    ll.add_multiple(result)\n",
    "    return ll"
   ]
  },
  {
   "cell_type": "code",
   "execution_count": 5,
   "metadata": {},
   "outputs": [
    {
     "name": "stdout",
     "output_type": "stream",
     "text": [
      "9-->0-->6-->7\n",
      "9-->0-->6\n",
      "9-->9-->7-->3\n"
     ]
    }
   ],
   "source": [
    "ll_a = LinkedList()\n",
    "ll_a.generate(4, 0, 9)\n",
    "ll_b = LinkedList()\n",
    "ll_b.generate(3, 0, 9)\n",
    "print(ll_a)\n",
    "print(ll_b)\n",
    "print(get_sum_forward_order_linked_list(ll_a, ll_b))"
   ]
  },
  {
   "cell_type": "code",
   "execution_count": null,
   "metadata": {},
   "outputs": [],
   "source": []
  }
 ],
 "metadata": {
  "kernelspec": {
   "display_name": "Python 3",
   "language": "python",
   "name": "python3"
  },
  "language_info": {
   "codemirror_mode": {
    "name": "ipython",
    "version": 3
   },
   "file_extension": ".py",
   "mimetype": "text/x-python",
   "name": "python",
   "nbconvert_exporter": "python",
   "pygments_lexer": "ipython3",
   "version": "3.7.0"
  }
 },
 "nbformat": 4,
 "nbformat_minor": 2
}
