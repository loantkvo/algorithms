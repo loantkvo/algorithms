{
 "cells": [
  {
   "cell_type": "markdown",
   "metadata": {},
   "source": [
    "Cracking the Coding Interview (6th Edition) - 1.6 page 90"
   ]
  },
  {
   "cell_type": "code",
   "execution_count": 16,
   "metadata": {},
   "outputs": [],
   "source": [
    "def compress_string(s):\n",
    "    comp_str = ''\n",
    "    prev_char = s[0]\n",
    "    char_count = 1\n",
    "    for curr_char in s[1:]:\n",
    "        if curr_char != prev_char:\n",
    "            comp_str += prev_char + str(char_count)\n",
    "            char_count = 1\n",
    "            prev_char = curr_char\n",
    "        else:\n",
    "            char_count += 1\n",
    "    comp_str += prev_char + str(char_count)\n",
    "    print(comp_str)\n",
    "    return comp_str if len(comp_str)<len(s) else s"
   ]
  },
  {
   "cell_type": "code",
   "execution_count": 22,
   "metadata": {},
   "outputs": [
    {
     "name": "stdout",
     "output_type": "stream",
     "text": [
      "a2b2c2a2\n",
      "aabbccaa\n"
     ]
    }
   ],
   "source": [
    "comp_str = compress_string('aabbccaa')\n",
    "print(comp_str)"
   ]
  },
  {
   "cell_type": "code",
   "execution_count": 23,
   "metadata": {},
   "outputs": [
    {
     "name": "stdout",
     "output_type": "stream",
     "text": [
      "a2b1c5a3\n",
      "True\n",
      "a1b1c1d1e1f1\n",
      "True\n"
     ]
    }
   ],
   "source": [
    "data = [\n",
    "        ('aabcccccaaa', 'a2b1c5a3'),\n",
    "        ('abcdef', 'abcdef')\n",
    "]\n",
    "for s, s_out in data:\n",
    "    my_s_out = compress_string(s)\n",
    "    print(my_s_out == s_out)"
   ]
  },
  {
   "cell_type": "code",
   "execution_count": null,
   "metadata": {},
   "outputs": [],
   "source": []
  }
 ],
 "metadata": {
  "kernelspec": {
   "display_name": "Python 3",
   "language": "python",
   "name": "python3"
  },
  "language_info": {
   "codemirror_mode": {
    "name": "ipython",
    "version": 3
   },
   "file_extension": ".py",
   "mimetype": "text/x-python",
   "name": "python",
   "nbconvert_exporter": "python",
   "pygments_lexer": "ipython3",
   "version": "3.7.0"
  }
 },
 "nbformat": 4,
 "nbformat_minor": 2
}
