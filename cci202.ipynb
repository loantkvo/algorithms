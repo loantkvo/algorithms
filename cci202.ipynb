{
 "cells": [
  {
   "cell_type": "code",
   "execution_count": 1,
   "metadata": {},
   "outputs": [],
   "source": [
    "from lib.LinkedList import LinkedList\n",
    "def get_kth_to_last_node_in_singly_linked_list(ll, K):\n",
    "    L = len(ll)\n",
    "    if K>=L or L==0:\n",
    "        return None\n",
    "    curr = ll.head\n",
    "    for _ in range(L-K-1):\n",
    "        curr = curr.next\n",
    "    return curr"
   ]
  },
  {
   "cell_type": "code",
   "execution_count": 2,
   "metadata": {},
   "outputs": [
    {
     "name": "stdout",
     "output_type": "stream",
     "text": [
      "73-->4-->54-->61-->73-->1-->26-->59-->62-->35\n",
      "None\n"
     ]
    }
   ],
   "source": [
    "ll = LinkedList()\n",
    "ll.generate(10, 0, 99)\n",
    "print(ll)\n",
    "print(get_kth_to_last_node_in_singly_linked_list(ll, 12))"
   ]
  },
  {
   "cell_type": "markdown",
   "metadata": {},
   "source": [
    "# Faster solution suggested in the book"
   ]
  },
  {
   "cell_type": "code",
   "execution_count": 3,
   "metadata": {},
   "outputs": [],
   "source": [
    "def get_kth_to_last(ll, k):\n",
    "    curr = ll.head\n",
    "    kth_node_after_curr = ll.head\n",
    "    for _ in range(k):\n",
    "        if kth_node_after_curr.next is None: #when ll has fewer than k nodes \n",
    "            return None\n",
    "        kth_node_after_curr = kth_node_after_curr.next\n",
    "        \n",
    "    while kth_node_after_curr.next is not None:\n",
    "        curr = curr.next\n",
    "        kth_node_after_curr = kth_node_after_curr.next\n",
    "\n",
    "    return curr\n",
    "    "
   ]
  },
  {
   "cell_type": "code",
   "execution_count": 4,
   "metadata": {},
   "outputs": [
    {
     "name": "stdout",
     "output_type": "stream",
     "text": [
      "73-->4-->54-->61-->73-->1-->26-->59-->62-->35\n",
      "None\n"
     ]
    }
   ],
   "source": [
    "print(ll)\n",
    "print(get_kth_to_last(ll, 10))"
   ]
  },
  {
   "cell_type": "code",
   "execution_count": null,
   "metadata": {},
   "outputs": [],
   "source": []
  }
 ],
 "metadata": {
  "kernelspec": {
   "display_name": "Python 3",
   "language": "python",
   "name": "python3"
  },
  "language_info": {
   "codemirror_mode": {
    "name": "ipython",
    "version": 3
   },
   "file_extension": ".py",
   "mimetype": "text/x-python",
   "name": "python",
   "nbconvert_exporter": "python",
   "pygments_lexer": "ipython3",
   "version": "3.7.0"
  }
 },
 "nbformat": 4,
 "nbformat_minor": 2
}
