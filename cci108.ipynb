{
 "cells": [
  {
   "cell_type": "markdown",
   "metadata": {},
   "source": [
    "Cracking the Coding Interview (6th Edition) - 1.8 page 90"
   ]
  },
  {
   "cell_type": "code",
   "execution_count": 23,
   "metadata": {},
   "outputs": [],
   "source": [
    "def zero_out_whole_row_col(mtx):\n",
    "    n, m = len(mtx), len(mtx[0])\n",
    "    zero_rows, zero_cols = set(), set()\n",
    "    for row in range(n):\n",
    "        for col in range(m):\n",
    "            if len(zero_cols)==m or len(zero_rows)==n:\n",
    "                break\n",
    "            if mtx[row][col] == 0:\n",
    "                zero_rows.add(row)\n",
    "                zero_cols.add(col)\n",
    "            \n",
    "    for row in zero_rows:\n",
    "        mtx[row] = [0 for _ in range(m)]\n",
    "    for col in zero_cols:\n",
    "        for row in range(n):\n",
    "            mtx[row][col] = 0\n",
    "\n",
    "    #print(*mtx, sep='\\n')\n",
    "    return mtx"
   ]
  },
  {
   "cell_type": "code",
   "execution_count": 24,
   "metadata": {},
   "outputs": [
    {
     "name": "stdout",
     "output_type": "stream",
     "text": [
      "[0, 1, 3]\n",
      "[4, 2, 8]\n",
      "[-1, 0, 2]\n",
      "\n",
      "\n",
      "[0, 0, 0]\n",
      "[0, 0, 8]\n",
      "[0, 0, 0]\n"
     ]
    }
   ],
   "source": [
    "mtx = [[0, 1, 3], [4, 2, 8], [-1, 0, 2]]\n",
    "print(*mtx, sep='\\n')\n",
    "zero_mtx = zero_out_whole_row_col(mtx)\n",
    "print('\\n', *zero_mtx, sep='\\n')"
   ]
  },
  {
   "cell_type": "code",
   "execution_count": 25,
   "metadata": {},
   "outputs": [
    {
     "name": "stdout",
     "output_type": "stream",
     "text": [
      "True\n"
     ]
    }
   ],
   "source": [
    "data = [\n",
    "        ([\n",
    "            [1, 2, 3, 4, 0],\n",
    "            [6, 0, 8, 9, 10],\n",
    "            [11, 12, 13, 14, 15],\n",
    "            [16, 0, 18, 19, 20],\n",
    "            [21, 22, 23, 24, 25]\n",
    "        ], [\n",
    "            [0, 0, 0, 0, 0],\n",
    "            [0, 0, 0, 0, 0],\n",
    "            [11, 0, 13, 14, 0],\n",
    "            [0, 0, 0, 0, 0],\n",
    "            [21, 0, 23, 24, 0]\n",
    "        ])\n",
    "    ]\n",
    "for mat_in, mat_out in data:\n",
    "    my_mat_out = zero_out_whole_row_col(mat_in)\n",
    "    print(mat_out == my_mat_out)\n"
   ]
  }
 ],
 "metadata": {
  "kernelspec": {
   "display_name": "Python 3",
   "language": "python",
   "name": "python3"
  },
  "language_info": {
   "codemirror_mode": {
    "name": "ipython",
    "version": 3
   },
   "file_extension": ".py",
   "mimetype": "text/x-python",
   "name": "python",
   "nbconvert_exporter": "python",
   "pygments_lexer": "ipython3",
   "version": "3.7.0"
  }
 },
 "nbformat": 4,
 "nbformat_minor": 2
}
