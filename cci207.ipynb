{
 "cells": [
  {
   "cell_type": "code",
   "execution_count": null,
   "metadata": {},
   "outputs": [],
   "source": [
    "%load_ext autoreload\n",
    "%autoreload 1\n",
    "%aimport lib.LinkedList"
   ]
  },
  {
   "cell_type": "code",
   "execution_count": 55,
   "metadata": {},
   "outputs": [],
   "source": [
    "from lib.LinkedList import LinkedList"
   ]
  },
  {
   "cell_type": "code",
   "execution_count": 84,
   "metadata": {},
   "outputs": [],
   "source": [
    "def intersection_of_two_linked_lists(ll1, ll2):\n",
    "    \n",
    "    if ll1.tail is not ll2.tail:\n",
    "        print('something is wrong')\n",
    "        return None\n",
    "    \n",
    "    len1, len2 = len(ll1), len(ll2)\n",
    "    longer_ll, shorter_ll = (ll1, ll2) if len1>=len2 else (ll2, ll1)\n",
    "    \n",
    "    longer, shorter = longer_ll.head, shorter_ll.head\n",
    "    for _ in range(abs(len1-len2)):\n",
    "        longer = longer.next\n",
    "        \n",
    "    while shorter != longer: #there can NOT be a senario in which shorter=longer for node kth from the tail, \n",
    "                            #then shorter!=longer for node (k-h)th from the tail\n",
    "                            #It is because if they are equal they are actually one object in memory \n",
    "                            #and next pointer for sure point to only one next node.\n",
    "        shorter = shorter.next\n",
    "        longer = longer.next\n",
    "    \n",
    "    return shorter\n",
    "    "
   ]
  },
  {
   "cell_type": "code",
   "execution_count": 86,
   "metadata": {},
   "outputs": [
    {
     "name": "stdout",
     "output_type": "stream",
     "text": [
      "3-->1-->5-->9-->7-->2-->1\n",
      "4-->5-->9-->7-->2-->1\n",
      "Intersection: 7\n"
     ]
    }
   ],
   "source": [
    "ll1 = LinkedList([7, 2, 1]) #ll1 and ll2 share the last three nodes \n",
    "ll1, ll2 = ll1.add_to_beginning([3, 1, 5, 9])\n",
    "ll2.add_to_beginning([4, 5, 9]) #this '5' and '9' is not the same node as '5' and '9' in ll1 - only same values\n",
    "print(ll1)\n",
    "print(ll2)\n",
    "if False:\n",
    "    for node in ll1:\n",
    "        print(id(node))\n",
    "    print(\"****\")\n",
    "    for node in ll2:\n",
    "        print(id(node))\n",
    "print(\"Intersection:\", intersection_of_two_linked_lists(ll1, ll2))"
   ]
  },
  {
   "cell_type": "code",
   "execution_count": null,
   "metadata": {},
   "outputs": [],
   "source": []
  }
 ],
 "metadata": {
  "kernelspec": {
   "display_name": "Python 3",
   "language": "python",
   "name": "python3"
  },
  "language_info": {
   "codemirror_mode": {
    "name": "ipython",
    "version": 3
   },
   "file_extension": ".py",
   "mimetype": "text/x-python",
   "name": "python",
   "nbconvert_exporter": "python",
   "pygments_lexer": "ipython3",
   "version": "3.7.0"
  }
 },
 "nbformat": 4,
 "nbformat_minor": 2
}
