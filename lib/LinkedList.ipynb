{
 "cells": [
  {
   "cell_type": "code",
   "execution_count": 1,
   "metadata": {},
   "outputs": [],
   "source": [
    "class LinkedListNode:\n",
    "    def __init__(self, value, prevNode=None, nextNode=None):\n",
    "        self.value = value\n",
    "        self.prev = prevNode\n",
    "        self.next = nextNode\n",
    "        \n",
    "    def __str__(self):\n",
    "        return str(self.value)"
   ]
  },
  {
   "cell_type": "code",
   "execution_count": 2,
   "metadata": {},
   "outputs": [],
   "source": [
    "from random import randint, seed\n",
    "\n",
    "class LinkedList:\n",
    "    def __init__(self, values=None):\n",
    "        self.head = None\n",
    "        self.tail = None\n",
    "        if values != None:\n",
    "            self.add_multiple(values)\n",
    "            \n",
    "    def __len__(self):\n",
    "        curr = self.head\n",
    "        L = 0\n",
    "        while curr != None:\n",
    "            L += 1\n",
    "            curr = curr.next\n",
    "        return L\n",
    "    \n",
    "    def __iter__(self):\n",
    "        curr = self.head\n",
    "        while curr is not None:\n",
    "            yield curr\n",
    "            curr = curr.next\n",
    "    \n",
    "    def __str__(self):\n",
    "        return '-->'.join([str(node) for node in self])\n",
    "            \n",
    "    \n",
    "    def add_multiple(self, values):#append multiple new nodes to the tail of the LinkedList\n",
    "        try:\n",
    "            for value in values:\n",
    "                self.add(value)\n",
    "            return self\n",
    "        except:\n",
    "            self.add(values)\n",
    "            \n",
    "    def add(self, value): #append a single new node to the tail of the LinkedList\n",
    "        if self.head is None:\n",
    "            self.head = self.tail = LinkedListNode(value, None, None)\n",
    "        else:\n",
    "            new_tail = LinkedListNode(value, None, None)\n",
    "            self.tail.next = new_tail\n",
    "            self.tail = new_tail\n",
    "        return self.tail\n",
    "    \n",
    "    def add_to_beginning(self, values): #append new node(s) to the head of he LinkedList\n",
    "        if self.head is None:\n",
    "            self.head = self.tail = LinkedList(values)\n",
    "        else:\n",
    "            new_ll = LinkedList(values)\n",
    "            new_ll.tail.next = self.head\n",
    "            new_ll.tail = self.tail\n",
    "            self.head, new_ll.head = new_ll.head, self.head\n",
    "        return self, new_ll #actually self is the appended linkedlist (the new and longer linked list), \n",
    "                            #and new_ll is the short/original linked list\n",
    "    \n",
    "    def generate(self, n, min_value, max_value, random_seed=10):\n",
    "        seed(random_seed)\n",
    "        self.head = self.tail = None\n",
    "        for _ in range(n):\n",
    "            self.add(randint(min_value, max_value))"
   ]
  },
  {
   "cell_type": "code",
   "execution_count": 3,
   "metadata": {},
   "outputs": [],
   "source": [
    "class DoublyLinkedList(LinkedList):\n",
    "    def add(self, value): #append a single new node to the tail of the DoublyLinkedList\n",
    "        if self.head is None:\n",
    "            self.head = self.tail = LinkedListNode(value, None, None)\n",
    "        else:\n",
    "            new_tail = LinkedListNode(value, self.tail, None)\n",
    "            self.tail.next = new_tail\n",
    "            self.tail = new_tail\n",
    "        return self.tail"
   ]
  },
  {
   "cell_type": "code",
   "execution_count": null,
   "metadata": {},
   "outputs": [],
   "source": []
  }
 ],
 "metadata": {
  "kernelspec": {
   "display_name": "Python 3",
   "language": "python",
   "name": "python3"
  },
  "language_info": {
   "codemirror_mode": {
    "name": "ipython",
    "version": 3
   },
   "file_extension": ".py",
   "mimetype": "text/x-python",
   "name": "python",
   "nbconvert_exporter": "python",
   "pygments_lexer": "ipython3",
   "version": "3.7.0"
  }
 },
 "nbformat": 4,
 "nbformat_minor": 2
}
