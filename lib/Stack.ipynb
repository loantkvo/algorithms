{
 "cells": [
  {
   "cell_type": "code",
   "execution_count": 1,
   "metadata": {},
   "outputs": [],
   "source": [
    "class MyStack:\n",
    "    def __init__(self, values=None):\n",
    "        self.stack = []\n",
    "        if values!=None:\n",
    "            self.push(values)\n",
    "        \n",
    "    def pop(self):\n",
    "        if self.is_empty():\n",
    "            return None\n",
    "        else:\n",
    "            return self.stack.pop()\n",
    "    \n",
    "    def push(self, values):\n",
    "        try:\n",
    "            for value in values:\n",
    "                self.stack.append(value)\n",
    "        except:\n",
    "            self.stack.append(values)\n",
    "        \n",
    "    def is_empty(self):\n",
    "        return len(self.stack)==0\n",
    "    \n",
    "    def peek(self):\n",
    "        if len(self.stack)!=0:\n",
    "            return self.stack[-1]\n",
    "        else:\n",
    "            return None\n",
    "        \n",
    "    def size(self):\n",
    "        return len(self.stack)\n",
    "    \n",
    "    def __str__(self):\n",
    "        return ', '.join(map(str, self.stack))\n",
    "    \n",
    "    def str_reversed_order(self):\n",
    "        return ', '.join(map(str, self.stack[-1::-1]))"
   ]
  },
  {
   "cell_type": "code",
   "execution_count": 2,
   "metadata": {},
   "outputs": [
    {
     "name": "stdout",
     "output_type": "stream",
     "text": [
      "\n",
      "37, 85, 57, 57, 5, 9, 41, 31, 23, 5\n",
      "37, 85, 57, 57, 5\n",
      "37, 85, 57, 57, 5, 4, 10, 6, 0, 7\n",
      "A peek at the top of the stack: 7\n"
     ]
    }
   ],
   "source": [
    "''''''\n",
    "import random \n",
    "\n",
    "s = MyStack()\n",
    "print(s)\n",
    "\n",
    "s = MyStack([random.randint(0, 100) for _ in range(10)])\n",
    "print(s)\n",
    "\n",
    "for _ in range(5):\n",
    "    s.pop()\n",
    "print(s)\n",
    "\n",
    "for value in [4, 10, 6, [0, 7]]:\n",
    "    s.push(value)\n",
    "print(s)\n",
    "\n",
    "print(\"A peek at the top of the stack:\", s.peek())"
   ]
  },
  {
   "cell_type": "code",
   "execution_count": null,
   "metadata": {},
   "outputs": [],
   "source": []
  }
 ],
 "metadata": {
  "kernelspec": {
   "display_name": "Python 3",
   "language": "python",
   "name": "python3"
  },
  "language_info": {
   "codemirror_mode": {
    "name": "ipython",
    "version": 3
   },
   "file_extension": ".py",
   "mimetype": "text/x-python",
   "name": "python",
   "nbconvert_exporter": "python",
   "pygments_lexer": "ipython3",
   "version": "3.7.0"
  }
 },
 "nbformat": 4,
 "nbformat_minor": 2
}
