{
 "cells": [
  {
   "cell_type": "code",
   "execution_count": 1,
   "metadata": {},
   "outputs": [],
   "source": [
    "class MyQueueWithList:\n",
    "    def __init__(self, values=None):\n",
    "        self.queue = []\n",
    "        if values!=None:\n",
    "            self.enqueue(values)\n",
    "    \n",
    "    def enqueue_single(self, value):\n",
    "        self.queue.insert(0, value)\n",
    "        \n",
    "    def enqueue(self, values):\n",
    "        try:\n",
    "            for value in values:\n",
    "                self.enqueue_single(value)\n",
    "        except:\n",
    "            self.enqueue_single(values)\n",
    "            \n",
    "    def dequeue(self):\n",
    "        try:\n",
    "            return self.queue.pop()\n",
    "        except:\n",
    "            return None\n",
    "        \n",
    "    def __str__(self):\n",
    "        return ', '.join(map(str, self.queue))"
   ]
  },
  {
   "cell_type": "code",
   "execution_count": 2,
   "metadata": {},
   "outputs": [],
   "source": [
    "from random import randint\n",
    "\n",
    "queue = MyQueueWithList([randint(0, 100) for _ in range(10)])\n",
    "print(queue)\n",
    "queue.enqueue([0, 3, 8])\n",
    "print(queue)\n",
    "for _ in range(5):\n",
    "    queue.dequeue()\n",
    "    print(queue)"
   ]
  },
  {
   "cell_type": "code",
   "execution_count": 3,
   "metadata": {},
   "outputs": [],
   "source": [
    "from LinkedList import LinkedListNode\n",
    "class MyQueueAsLinkedList:\n",
    "    def __init__(self, values=None):\n",
    "        self.head = None\n",
    "        self.tail = None\n",
    "        if values!=None:\n",
    "            self.enqueue(values)\n",
    "    \n",
    "    def enqueue_single(self, value):\n",
    "        if self.head == None:\n",
    "            self.head = self.tail = LinkedListNode(value)\n",
    "        else:\n",
    "            self.tail.next = LinkedListNode(value)\n",
    "            self.tail = self.tail.next\n",
    "        \n",
    "    def enqueue(self, values):\n",
    "        try:\n",
    "            for value in values:\n",
    "                self.enqueue_single(value)\n",
    "        except:\n",
    "            self.enqueue_single(values)\n",
    "            \n",
    "    def dequeue(self):\n",
    "        if self.head==None:\n",
    "            return None\n",
    "        head = self.head\n",
    "        if self.head.next!=None:\n",
    "            self.head = self.head.next\n",
    "        else:\n",
    "            self.head = self.tail = None\n",
    "        return head\n",
    "    \n",
    "    def __iter__(self):\n",
    "        curr = self.head\n",
    "        while curr!=None:\n",
    "            yield curr\n",
    "            curr = curr.next\n",
    "        \n",
    "    def __str__(self):\n",
    "        return '; '.join([str(node) for node in self])"
   ]
  },
  {
   "cell_type": "code",
   "execution_count": 4,
   "metadata": {},
   "outputs": [
    {
     "name": "stdout",
     "output_type": "stream",
     "text": [
      "Initial queue: 88; 81; 63; 16; 13; 19; 68; 84; 91; 21\n",
      "After adding 3 more items: 88; 81; 63; 16; 13; 19; 68; 84; 91; 21; 0; 3; 8\n",
      "Dequeuing...\n",
      "81; 63; 16; 13; 19; 68; 84; 91; 21; 0; 3; 8\n",
      "63; 16; 13; 19; 68; 84; 91; 21; 0; 3; 8\n",
      "16; 13; 19; 68; 84; 91; 21; 0; 3; 8\n",
      "13; 19; 68; 84; 91; 21; 0; 3; 8\n",
      "19; 68; 84; 91; 21; 0; 3; 8\n",
      "68; 84; 91; 21; 0; 3; 8\n",
      "84; 91; 21; 0; 3; 8\n",
      "91; 21; 0; 3; 8\n",
      "21; 0; 3; 8\n",
      "0; 3; 8\n",
      "3; 8\n",
      "8\n",
      "\n",
      "\n",
      "\n"
     ]
    }
   ],
   "source": [
    "from random import randint\n",
    "\n",
    "queue = MyQueueAsLinkedList([randint(0, 100) for _ in range(10)])\n",
    "print(\"Initial queue:\", queue)\n",
    "queue.enqueue([0, 3, 8])\n",
    "print(\"After adding 3 more items:\", queue)\n",
    "print(\"Dequeuing...\")\n",
    "for _ in range(15):\n",
    "    queue.dequeue()\n",
    "    print(queue)"
   ]
  },
  {
   "cell_type": "code",
   "execution_count": null,
   "metadata": {},
   "outputs": [],
   "source": []
  }
 ],
 "metadata": {
  "kernelspec": {
   "display_name": "Python 3",
   "language": "python",
   "name": "python3"
  },
  "language_info": {
   "codemirror_mode": {
    "name": "ipython",
    "version": 3
   },
   "file_extension": ".py",
   "mimetype": "text/x-python",
   "name": "python",
   "nbconvert_exporter": "python",
   "pygments_lexer": "ipython3",
   "version": "3.7.0"
  }
 },
 "nbformat": 4,
 "nbformat_minor": 2
}
