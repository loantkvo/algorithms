{
 "cells": [
  {
   "cell_type": "markdown",
   "metadata": {},
   "source": [
    "Cracking the Coding Interview (6th Edition) - 1.3 page 90"
   ]
  },
  {
   "cell_type": "code",
   "execution_count": 32,
   "metadata": {},
   "outputs": [],
   "source": [
    "def replace_space(s, len_s):\n",
    "    '''\n",
    "    Input: list of character s (with enough additional spaces) and its true len\n",
    "    Output: list of character s with spaces replaced by \"%20\". \n",
    "    Requirement: INPLACE operation\n",
    "    '''\n",
    "\n",
    "    space_count = 0\n",
    "    for achar in s[:len_s]:\n",
    "        if achar == ' ':\n",
    "            space_count += 1\n",
    "    new_len_s = len_s + space_count*2\n",
    "    idx2 = new_len_s-1\n",
    "    for idx in range(len_s-1,-1,-1):\n",
    "        if s[idx] == ' ':\n",
    "            s[idx2-2:idx2+1] = '%20'\n",
    "            idx2 -= 3\n",
    "        else:\n",
    "            s[idx2] = s[idx]\n",
    "            idx2 -= 1\n",
    "    print(''.join(s))\n",
    "    return s\n",
    "        "
   ]
  },
  {
   "cell_type": "code",
   "execution_count": 31,
   "metadata": {},
   "outputs": [
    {
     "name": "stdout",
     "output_type": "stream",
     "text": [
      "%20stingy%20spider\n",
      "stingy%20spider\n"
     ]
    },
    {
     "data": {
      "text/plain": [
       "['s', 't', 'i', 'n', 'g', 'y', '%', '2', '0', 's', 'p', 'i', 'd', 'e', 'r']"
      ]
     },
     "execution_count": 31,
     "metadata": {},
     "output_type": "execute_result"
    }
   ],
   "source": [
    "s = list(\" stingy spider    \")\n",
    "replace_space(s, 14)\n",
    "\n",
    "s = list(\"stingy spider  \")\n",
    "replace_space(s, 13)"
   ]
  },
  {
   "cell_type": "code",
   "execution_count": 34,
   "metadata": {},
   "outputs": [
    {
     "name": "stdout",
     "output_type": "stream",
     "text": [
      "much%20ado%20about%20nothing\n",
      "True\n",
      "Mr%20John%20Smith\n",
      "True\n"
     ]
    }
   ],
   "source": [
    "data = [(list('much ado about nothing      '), 22, list('much%20ado%20about%20nothing')),\n",
    "        (list('Mr John Smith    '), 13, list('Mr%20John%20Smith'))]\n",
    "for s, l, s_out in data:\n",
    "    print(s_out == replace_space(s, l))"
   ]
  },
  {
   "cell_type": "code",
   "execution_count": null,
   "metadata": {},
   "outputs": [],
   "source": []
  }
 ],
 "metadata": {
  "kernelspec": {
   "display_name": "Python 3",
   "language": "python",
   "name": "python3"
  },
  "language_info": {
   "codemirror_mode": {
    "name": "ipython",
    "version": 3
   },
   "file_extension": ".py",
   "mimetype": "text/x-python",
   "name": "python",
   "nbconvert_exporter": "python",
   "pygments_lexer": "ipython3",
   "version": "3.7.0"
  }
 },
 "nbformat": 4,
 "nbformat_minor": 2
}
