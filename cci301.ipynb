{
 "cells": [
  {
   "cell_type": "code",
   "execution_count": 4,
   "metadata": {},
   "outputs": [],
   "source": [
    "class MyStack:\n",
    "    def __init__(self, values=None):\n",
    "        self.stack = []\n",
    "        if values!=None:\n",
    "            self.push(values)\n",
    "        \n",
    "    def pop(self):\n",
    "        if self.is_empty():\n",
    "            return None\n",
    "        else:\n",
    "            return self.stack.pop()\n",
    "    \n",
    "    def push(self, values):\n",
    "        try:\n",
    "            for value in values:\n",
    "                self.stack.append(value)\n",
    "        except:\n",
    "            self.stack.append(values)\n",
    "        \n",
    "    def is_empty(self):\n",
    "        return len(self.stack)==0\n",
    "    \n",
    "    def peek(self):\n",
    "        if len(self.stack)!=0:\n",
    "            return self.stack[-1]\n",
    "        else:\n",
    "            return None\n",
    "    \n",
    "    def __str__(self):\n",
    "        return ', '.join(map(str, self.stack))"
   ]
  }
 ],
 "metadata": {
  "kernelspec": {
   "display_name": "Python 3",
   "language": "python",
   "name": "python3"
  },
  "language_info": {
   "codemirror_mode": {
    "name": "ipython",
    "version": 3
   },
   "file_extension": ".py",
   "mimetype": "text/x-python",
   "name": "python",
   "nbconvert_exporter": "python",
   "pygments_lexer": "ipython3",
   "version": "3.7.0"
  }
 },
 "nbformat": 4,
 "nbformat_minor": 2
}
