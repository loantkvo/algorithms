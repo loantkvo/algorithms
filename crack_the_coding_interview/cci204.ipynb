{
 "cells": [
  {
   "cell_type": "code",
   "execution_count": 1,
   "metadata": {},
   "outputs": [],
   "source": [
    "%load_ext autoreload\n",
    "%autoreload 1\n",
    "%aimport lib.LinkedList\n",
    "from lib.LinkedList import LinkedList"
   ]
  },
  {
   "cell_type": "code",
   "execution_count": 26,
   "metadata": {},
   "outputs": [],
   "source": [
    "def partition(ll, x):\n",
    "    border = runner = ll.head\n",
    "    #count = 0\n",
    "    while runner is not None:\n",
    "        #print(\"--\")\n",
    "        #print(count, \":\", border.value, runner.value, ll)\n",
    "        if runner.value < x:\n",
    "            border.value, runner.value = runner.value, border.value\n",
    "            border = border.next\n",
    "        #print(count, \":\", border.value, runner.value, ll)\n",
    "        runner = runner.next\n",
    "        #count += 1\n",
    "            "
   ]
  },
  {
   "cell_type": "code",
   "execution_count": 4,
   "metadata": {},
   "outputs": [
    {
     "name": "stdout",
     "output_type": "stream",
     "text": [
      "60-->34-->84-->67-->85-->44-->18-->48-->1-->47\n",
      "34-->44-->18-->48-->1-->47-->84-->67-->85-->60\n"
     ]
    }
   ],
   "source": [
    "ll = LinkedList()\n",
    "ll.generate(10, 0, 99, 12)\n",
    "print(ll)\n",
    "partition(ll, ll.head.value)\n",
    "print(ll)"
   ]
  },
  {
   "cell_type": "code",
   "execution_count": 36,
   "metadata": {},
   "outputs": [
    {
     "name": "stdout",
     "output_type": "stream",
     "text": [
      "3-->5-->8-->5-->10-->2-->1\n",
      "3-->2-->1-->5-->10-->5-->8\n"
     ]
    }
   ],
   "source": [
    "ll = LinkedList()\n",
    "ll.add_multiple([3, 5, 8, 5, 10, 2, 1])\n",
    "print(ll)\n",
    "partition(ll, 5)\n",
    "print(ll)"
   ]
  },
  {
   "cell_type": "code",
   "execution_count": 35,
   "metadata": {},
   "outputs": [
    {
     "name": "stdout",
     "output_type": "stream",
     "text": [
      "3-->5-->8-->5-->10-->2-->1\n",
      "3-->5-->8-->5-->10-->2-->1\n"
     ]
    }
   ],
   "source": [
    "ll = LinkedList()\n",
    "ll.add_multiple([3, 5, 8, 5, 10, 2, 1])\n",
    "print(ll)\n",
    "partition(ll, 0)\n",
    "print(ll)"
   ]
  },
  {
   "cell_type": "code",
   "execution_count": 34,
   "metadata": {},
   "outputs": [
    {
     "name": "stdout",
     "output_type": "stream",
     "text": [
      "3-->5-->8-->5-->10-->2-->1\n",
      "3-->5-->8-->5-->10-->2-->1\n"
     ]
    }
   ],
   "source": [
    "ll = LinkedList()\n",
    "ll.add_multiple([3, 5, 8, 5, 10, 2, 1])\n",
    "print(ll)\n",
    "partition(ll, 11)\n",
    "print(ll)"
   ]
  },
  {
   "cell_type": "code",
   "execution_count": null,
   "metadata": {},
   "outputs": [],
   "source": []
  }
 ],
 "metadata": {
  "kernelspec": {
   "display_name": "Python 3",
   "language": "python",
   "name": "python3"
  },
  "language_info": {
   "codemirror_mode": {
    "name": "ipython",
    "version": 3
   },
   "file_extension": ".py",
   "mimetype": "text/x-python",
   "name": "python",
   "nbconvert_exporter": "python",
   "pygments_lexer": "ipython3",
   "version": "3.7.0"
  }
 },
 "nbformat": 4,
 "nbformat_minor": 2
}
