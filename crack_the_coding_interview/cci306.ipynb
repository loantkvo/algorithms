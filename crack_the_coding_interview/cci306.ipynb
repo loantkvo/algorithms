{
 "cells": [
  {
   "cell_type": "code",
   "execution_count": 1,
   "metadata": {},
   "outputs": [],
   "source": [
    "class Animal:\n",
    "    def __init__(self, data):\n",
    "        self.next = None\n",
    "        self.name = data[\"name\"] #cat or dog\n",
    "        self.info = data[\"info\"] #other information of the animal\n",
    "        \n",
    "    def __str__(self):\n",
    "        return self.name + \" - \" + str(self.info)\n",
    "\n",
    "\n",
    "class AnimalShelterQueue:\n",
    "    def __init__(self, data=None):\n",
    "        self.head = None\n",
    "        self.tail = None\n",
    "        if data!=None:\n",
    "            self.enqueue(data)\n",
    "            \n",
    "    def enqueue(self, data):\n",
    "        if self.head==None:\n",
    "            self.head = self.tail = Animal(data)\n",
    "        else:\n",
    "            self.tail.next = Animal(data)\n",
    "            self.tail = self.tail.next\n",
    "        \n",
    "    def dequeueAny(self):\n",
    "        if self.head==None:\n",
    "            return None\n",
    "        candidate = self.head\n",
    "        if self.head.next!=None:\n",
    "            self.head = self.head.next\n",
    "        else:\n",
    "            self.head = self.tail = None\n",
    "        return candidate\n",
    "    \n",
    "    def dequeueSpecified(self, catOrDog):\n",
    "        if self.head ==None:\n",
    "            return None\n",
    "        curr = self.head\n",
    "        #the animal at the top of the queue is the exact type that is looked for \n",
    "        while curr.name==catOrDog:\n",
    "            return self.dequeueAny()\n",
    "        #the animal at the top of the queue is NOT the exact type that is looked for --> examine the next one\n",
    "        while curr.next!=None and curr.next.name!=catOrDog:\n",
    "            curr = curr.next\n",
    "        if curr.next == None:\n",
    "            return None\n",
    "        else:\n",
    "            candidate = curr.next\n",
    "            curr.next = curr.next.next\n",
    "            return candidate\n",
    "        \n",
    "    def dequeueCat(self):\n",
    "        return self.dequeueSpecified(\"cat\")\n",
    "    \n",
    "    def dequeueDog(self):\n",
    "        return self.dequeueSpecified(\"dog\")\n",
    "    \n",
    "    def __iter__(self):\n",
    "        curr = self.head\n",
    "        while curr!=None:\n",
    "            yield curr\n",
    "            curr = curr.next\n",
    "  \n",
    "    def __str__(self):\n",
    "        return '\\n'.join([str(animal) for animal in self])"
   ]
  },
  {
   "cell_type": "code",
   "execution_count": 2,
   "metadata": {},
   "outputs": [],
   "source": [
    "cat1 = {\"name\": \"cat\", \"info\": \"yellow, 3 month old\"}\n",
    "cat2 = {\"name\": \"cat\", \"info\": \"black, 5 month old\"}\n",
    "cat3 = {\"name\": \"cat\", \"info\": \"yellow and white, 13 month old\"}\n",
    "cat4 = {\"name\": \"cat\", \"info\": \"gray, 3 year old\"}\n",
    "\n",
    "dog1 = {\"name\": \"dog\", \"info\": \"white, 12 month old\"}\n",
    "dog2 = {\"name\": \"dog\", \"info\": \"greyhound, 2 year old\"}\n",
    "dog3 = {\"name\": \"dog\", \"info\": \"golden, 10 year old\"}\n"
   ]
  },
  {
   "cell_type": "code",
   "execution_count": 3,
   "metadata": {},
   "outputs": [
    {
     "name": "stdout",
     "output_type": "stream",
     "text": [
      "\n",
      "Current shelter inventory:\n",
      " cat - yellow, 3 month old\n",
      "\n",
      "Dog to be adopted : None\n",
      "\n",
      "Cat to be adopted : cat - yellow, 3 month old\n",
      "\n",
      "Animal to be adopted : None\n",
      "\n",
      "Dog to be adopted : None\n"
     ]
    }
   ],
   "source": [
    "shelter = AnimalShelterQueue(cat1)\n",
    "print(\"\\nCurrent shelter inventory:\\n\", shelter)\n",
    "print(\"\\nDog to be adopted :\",shelter.dequeueDog())\n",
    "print(\"\\nCat to be adopted :\",shelter.dequeueCat())\n",
    "print(\"\\nAnimal to be adopted :\",shelter.dequeueAny())\n",
    "print(\"\\nDog to be adopted :\",shelter.dequeueDog())\n"
   ]
  },
  {
   "cell_type": "code",
   "execution_count": 4,
   "metadata": {},
   "outputs": [
    {
     "name": "stdout",
     "output_type": "stream",
     "text": [
      "\n",
      "Current shelter inventory:\n",
      " cat - yellow, 3 month old\n",
      "cat - black, 5 month old\n",
      "dog - white, 12 month old\n",
      "dog - greyhound, 2 year old\n",
      "dog - golden, 10 year old\n",
      "cat - yellow and white, 13 month old\n",
      "cat - gray, 3 year old\n",
      "\n",
      "Animal to be adopted : cat - yellow, 3 month old\n",
      "\n",
      "Dog to be adopted : dog - white, 12 month old\n",
      "\n",
      "Cat to be adopted : cat - black, 5 month old\n",
      "\n",
      "Dog to be adopted : dog - greyhound, 2 year old\n",
      "\n",
      "Cat to be adopted : cat - yellow and white, 13 month old\n",
      "\n",
      "Animal to be adopted : dog - golden, 10 year old\n",
      "\n",
      "Dog to be adopted : None\n",
      "\n",
      "Dog to be adopted : None\n",
      "\n",
      "Remaining shelter inventory:\n",
      " cat - gray, 3 year old\n"
     ]
    }
   ],
   "source": [
    "shelter = AnimalShelterQueue(cat1)\n",
    "shelter.enqueue(cat2)\n",
    "shelter.enqueue(dog1)\n",
    "shelter.enqueue(dog2)\n",
    "shelter.enqueue(dog3)\n",
    "shelter.enqueue(cat3)\n",
    "shelter.enqueue(cat4)\n",
    "print(\"\\nCurrent shelter inventory:\\n\", shelter)\n",
    "print(\"\\nAnimal to be adopted :\",shelter.dequeueAny())\n",
    "print(\"\\nDog to be adopted :\",shelter.dequeueDog())\n",
    "print(\"\\nCat to be adopted :\",shelter.dequeueCat())\n",
    "print(\"\\nDog to be adopted :\",shelter.dequeueDog())\n",
    "print(\"\\nCat to be adopted :\",shelter.dequeueCat())\n",
    "print(\"\\nAnimal to be adopted :\",shelter.dequeueAny())\n",
    "print(\"\\nDog to be adopted :\",shelter.dequeueDog())\n",
    "print(\"\\nDog to be adopted :\",shelter.dequeueDog())\n",
    "print(\"\\nRemaining shelter inventory:\\n\", shelter)\n",
    "\n"
   ]
  },
  {
   "cell_type": "code",
   "execution_count": null,
   "metadata": {},
   "outputs": [],
   "source": []
  }
 ],
 "metadata": {
  "kernelspec": {
   "display_name": "Python 3",
   "language": "python",
   "name": "python3"
  },
  "language_info": {
   "codemirror_mode": {
    "name": "ipython",
    "version": 3
   },
   "file_extension": ".py",
   "mimetype": "text/x-python",
   "name": "python",
   "nbconvert_exporter": "python",
   "pygments_lexer": "ipython3",
   "version": "3.7.0"
  }
 },
 "nbformat": 4,
 "nbformat_minor": 2
}
