{
 "cells": [
  {
   "cell_type": "code",
   "execution_count": 2,
   "metadata": {},
   "outputs": [],
   "source": [
    "%load_ext autoreload\n",
    "%autoreload 1\n",
    "%aimport lib.LinkedList"
   ]
  },
  {
   "cell_type": "code",
   "execution_count": 3,
   "metadata": {},
   "outputs": [],
   "source": [
    "from lib.LinkedList import LinkedList"
   ]
  },
  {
   "cell_type": "code",
   "execution_count": 9,
   "metadata": {},
   "outputs": [],
   "source": [
    "def get_loop_beginning_node(ll):\n",
    "    ids = set()\n",
    "    node = ll.head\n",
    "    while id(node) not in ids:\n",
    "        ids.add(id(node))\n",
    "        node = node.next\n",
    "    return node"
   ]
  },
  {
   "cell_type": "code",
   "execution_count": 29,
   "metadata": {},
   "outputs": [],
   "source": [
    "def get_loop_beginning_node_without_id_func(ll):\n",
    "    \"\"\"\n",
    "    Using the 'trick' explained in the book\n",
    "    \"\"\"\n",
    "    slow = ll.head\n",
    "    fast = ll.head\n",
    "    loophead = ll.head\n",
    "\n",
    "    while fast != None and fast.next!=None:#stop when slow and fast collide at a node on the loop\n",
    "        slow = slow.next\n",
    "        fast = fast.next.next\n",
    "        if slow==fast:\n",
    "            break\n",
    "    if fast==None or fast.next==None:\n",
    "        return None\n",
    "    while loophead!= slow:\n",
    "        slow = slow.next\n",
    "        loophead = loophead.next\n",
    "    return loophead\n",
    "    "
   ]
  },
  {
   "cell_type": "code",
   "execution_count": 30,
   "metadata": {},
   "outputs": [
    {
     "name": "stdout",
     "output_type": "stream",
     "text": [
      "2 20\n"
     ]
    }
   ],
   "source": [
    "# Generate a linked list with loop\n",
    "#ll = LinkedList([99])\n",
    "ll = LinkedList([20, 4, 5, 7, 9, 10, 6, 11, 2])\n",
    "loophead = ll.head\n",
    "ll.add_to_beginning([22, 30, 15])\n",
    "ll.tail.next = loophead\n",
    "#print(ll) #Do not attempt to print the linked list as the __str__(LinkedList) won't terminate due to the loop\n",
    "#print(ll.tail, ll.tail.next)"
   ]
  },
  {
   "cell_type": "code",
   "execution_count": 31,
   "metadata": {},
   "outputs": [],
   "source": [
    "result1 = get_loop_beginning_node(ll)\n",
    "result2 = get_loop_beginning_node_without_id_func(ll)"
   ]
  },
  {
   "cell_type": "code",
   "execution_count": 32,
   "metadata": {},
   "outputs": [
    {
     "name": "stdout",
     "output_type": "stream",
     "text": [
      "20 4371687128\n",
      "20 4371687128\n",
      "20 4371687128\n"
     ]
    }
   ],
   "source": [
    "print(loophead, id(loophead))\n",
    "print(result1, id(result1))\n",
    "print(result2, id(result2))"
   ]
  },
  {
   "cell_type": "code",
   "execution_count": null,
   "metadata": {},
   "outputs": [],
   "source": []
  }
 ],
 "metadata": {
  "kernelspec": {
   "display_name": "Python 3",
   "language": "python",
   "name": "python3"
  },
  "language_info": {
   "codemirror_mode": {
    "name": "ipython",
    "version": 3
   },
   "file_extension": ".py",
   "mimetype": "text/x-python",
   "name": "python",
   "nbconvert_exporter": "python",
   "pygments_lexer": "ipython3",
   "version": "3.7.0"
  }
 },
 "nbformat": 4,
 "nbformat_minor": 2
}
