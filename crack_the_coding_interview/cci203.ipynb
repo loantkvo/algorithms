{
 "cells": [
  {
   "cell_type": "code",
   "execution_count": 1,
   "metadata": {},
   "outputs": [],
   "source": [
    "%load_ext autoreload\n",
    "%autoreload 1\n",
    "%aimport lib.LinkedList\n",
    "from lib.LinkedList import LinkedList"
   ]
  },
  {
   "cell_type": "code",
   "execution_count": 2,
   "metadata": {},
   "outputs": [],
   "source": [
    "def delete_middle_node(node):\n",
    "    node.value = node.next.value\n",
    "    node.next = node.next.next"
   ]
  },
  {
   "cell_type": "code",
   "execution_count": 3,
   "metadata": {},
   "outputs": [
    {
     "name": "stdout",
     "output_type": "stream",
     "text": [
      "1-->2-->3-->4\n",
      "1-->2-->3-->4-->5\n",
      "1-->2-->3-->4-->5-->7-->8-->9\n",
      "1-->2-->3-->4-->7-->8-->9\n"
     ]
    }
   ],
   "source": [
    "ll = LinkedList()\n",
    "ll.add_multiple([1, 2, 3, 4])\n",
    "print(ll)\n",
    "middle_node = ll.add(5)\n",
    "print(ll)\n",
    "ll.add_multiple([7, 8, 9])\n",
    "print(ll)\n",
    "delete_middle_node(middle_node)\n",
    "print(ll)"
   ]
  },
  {
   "cell_type": "code",
   "execution_count": null,
   "metadata": {},
   "outputs": [],
   "source": []
  }
 ],
 "metadata": {
  "kernelspec": {
   "display_name": "Python 3",
   "language": "python",
   "name": "python3"
  },
  "language_info": {
   "codemirror_mode": {
    "name": "ipython",
    "version": 3
   },
   "file_extension": ".py",
   "mimetype": "text/x-python",
   "name": "python",
   "nbconvert_exporter": "python",
   "pygments_lexer": "ipython3",
   "version": "3.7.0"
  }
 },
 "nbformat": 4,
 "nbformat_minor": 2
}
