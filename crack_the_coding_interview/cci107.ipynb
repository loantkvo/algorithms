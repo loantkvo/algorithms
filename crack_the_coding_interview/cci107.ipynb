{
 "cells": [
  {
   "cell_type": "markdown",
   "metadata": {},
   "source": [
    "Cracking the Coding Interview (6th Edition) - 1.7 page 90"
   ]
  },
  {
   "cell_type": "code",
   "execution_count": 72,
   "metadata": {},
   "outputs": [],
   "source": [
    "import pdb\n",
    "def get_col(mat, col):\n",
    "    return [mat[i][col] for i in range(len(mat))]\n",
    "def get_row(mat, row):\n",
    "    return mat[row]\n",
    "def rotate_matrix_90_counter_clockwise(mtx):\n",
    "    N = len(mtx)\n",
    "    for i in range(N//2):\n",
    "        buffer = get_row(mtx, i)[i:N-i-1]\n",
    "        \n",
    "        mtx[i][i:N-i-1] = get_col(mtx, N-i-1)[i:N-i-1]\n",
    "        \n",
    "        for j, value in enumerate(get_row(mtx, N-i-1)[i+1:N-i]):\n",
    "            mtx[N-2-i-j][N-i-1] = value\n",
    "        \n",
    "        mtx[N-i-1][i+1:N-i] = get_col(mtx, i)[i+1:N-i]\n",
    "        \n",
    "        for j, value in enumerate(buffer):\n",
    "            mtx[N-1-i-j][i] = value\n",
    "    return mtx\n",
    "\n",
    "def rotate_matrix_90(mtx):\n",
    "    N = len(mtx)\n",
    "    for i in range(N//2):\n",
    "        buffer = mtx[i][i:N-i-1]\n",
    "        mtx[i][i:N-i-1] = get_col(mtx, i)[N-i-1:i:-1]\n",
    "        #print(i, \"--1\")\n",
    "        #print(*mtx, sep='\\n')\n",
    "        \n",
    "        for j, value in enumerate(get_row(mtx, N-i-1)[i+1:N-i]):\n",
    "            mtx[i+j+1][i] = value\n",
    "        #print(i, \"--2\")\n",
    "        #print(*mtx, sep='\\n')\n",
    "        \n",
    "        mtx[N-i-1][N-i-1:i:-1] = get_col(mtx, N-i-1)[i:N-i-1]\n",
    "        #print(i, \"--3\")\n",
    "        #print(*mtx, sep='\\n')\n",
    "        \n",
    "        for j, value in enumerate(buffer):\n",
    "            mtx[i+j][N-i-1] = value\n",
    "        #print(i, \"--4. Buffer=\", buffer)\n",
    "        #print(*mtx, sep='\\n')\n",
    "    return mtx"
   ]
  },
  {
   "cell_type": "code",
   "execution_count": 78,
   "metadata": {},
   "outputs": [
    {
     "name": "stdout",
     "output_type": "stream",
     "text": [
      "[0, 1, 3, 9]\n",
      "[4, 2, 8, 3]\n",
      "[-1, 0, 9, 7]\n",
      "[6, 5, 5, 8]\n",
      "\n",
      "\n",
      "[6, -1, 4, 0]\n",
      "[5, 0, 2, 1]\n",
      "[5, 9, 8, 3]\n",
      "[8, 7, 3, 9]\n"
     ]
    },
    {
     "data": {
      "text/plain": [
       "True"
      ]
     },
     "execution_count": 78,
     "metadata": {},
     "output_type": "execute_result"
    }
   ],
   "source": [
    "mtx = [[0, 1, 3, 9], [4, 2, 8, 3], [-1, 0, 9, 7], [6, 5, 5, 8]]\n",
    "print(*mtx, sep='\\n')\n",
    "new_mtx = rotate_matrix_90(mtx)\n",
    "print('\\n',*new_mtx, sep='\\n')\n",
    "\n",
    "#rotate back:\n",
    "mtx == rotate_matrix_90_counter_clockwise(new_mtx)"
   ]
  },
  {
   "cell_type": "code",
   "execution_count": 76,
   "metadata": {},
   "outputs": [
    {
     "name": "stdout",
     "output_type": "stream",
     "text": [
      "Correct\n"
     ]
    },
    {
     "data": {
      "text/plain": [
       "True"
      ]
     },
     "execution_count": 76,
     "metadata": {},
     "output_type": "execute_result"
    }
   ],
   "source": [
    "data = [\n",
    "        ([\n",
    "            [1, 2, 3, 4, 5],\n",
    "            [6, 7, 8, 9, 10],\n",
    "            [11, 12, 13, 14, 15],\n",
    "            [16, 17, 18, 19, 20],\n",
    "            [21, 22, 23, 24, 25]\n",
    "        ], [\n",
    "            [21, 16, 11, 6, 1],\n",
    "            [22, 17, 12, 7, 2],\n",
    "            [23, 18, 13, 8, 3],\n",
    "            [24, 19, 14, 9, 4],\n",
    "            [25, 20, 15, 10, 5]\n",
    "        ])\n",
    "    ]\n",
    "for mat_in, mat_out in data:\n",
    "    my_mat_out = rotate_matrix_90(mat_in)\n",
    "    if mat_out == my_mat_out:\n",
    "        print('Correct')\n",
    "    else:\n",
    "        print(\"Wrong\")\n",
    "        \n",
    "mat_in == rotate_matrix_90_counter_clockwise(my_mat_out)"
   ]
  },
  {
   "cell_type": "code",
   "execution_count": null,
   "metadata": {},
   "outputs": [],
   "source": []
  },
  {
   "cell_type": "code",
   "execution_count": null,
   "metadata": {},
   "outputs": [],
   "source": []
  }
 ],
 "metadata": {
  "kernelspec": {
   "display_name": "Python 3",
   "language": "python",
   "name": "python3"
  },
  "language_info": {
   "codemirror_mode": {
    "name": "ipython",
    "version": 3
   },
   "file_extension": ".py",
   "mimetype": "text/x-python",
   "name": "python",
   "nbconvert_exporter": "python",
   "pygments_lexer": "ipython3",
   "version": "3.7.0"
  }
 },
 "nbformat": 4,
 "nbformat_minor": 2
}
