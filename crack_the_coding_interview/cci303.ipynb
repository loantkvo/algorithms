{
 "cells": [
  {
   "cell_type": "code",
   "execution_count": 1,
   "metadata": {},
   "outputs": [],
   "source": [
    "class SetOfStacks:\n",
    "    def __init__(self, maxlen=2**3, values=None):\n",
    "        print(\"---\", values)\n",
    "        self.setofstacks = [[]]\n",
    "        self.maxlen = maxlen\n",
    "        if values!=None:\n",
    "            self.push(values)\n",
    "            \n",
    "    def push_single(self, value):\n",
    "        if len(self.setofstacks)==0:\n",
    "            laststack = []\n",
    "            self.setofstacks = [laststack]\n",
    "        else:\n",
    "            laststack = self.setofstacks[-1]\n",
    "        if len(laststack) >= self.maxlen:\n",
    "            laststack = []\n",
    "            self.setofstacks.append(laststack)\n",
    "        laststack.append(value)\n",
    "            \n",
    "    def push(self, values):\n",
    "        try:\n",
    "            for value in values:\n",
    "                self.push_single(value)\n",
    "        except:\n",
    "            self.push_single(values)\n",
    "    \n",
    "    def pop(self):\n",
    "        try:\n",
    "            pop_value = self.setofstacks[-1].pop()\n",
    "            if len(self.setofstacks[-1])==0 and len(self.setofstacks)!=1: #remove empty stack\n",
    "                                                                        #len(self.setofstacks)!=1: to make sure that self.setofstacks is always a [[]] (not a [])\n",
    "                self.setofstacks.pop()\n",
    "            return pop_value\n",
    "        except:\n",
    "            return None\n",
    "    \n",
    "    def popAt(self, index):\n",
    "        try:\n",
    "            stack = self.setofstacks[index]\n",
    "        except:\n",
    "            return None\n",
    "        try:\n",
    "            value = stack.pop()\n",
    "            if len(stack)==0 and len(self.setofstacks)!=1: #remove empty stack\n",
    "                                                            #len(self.setofstacks)!=1: to make sure that self.setofstacks is always a [[]] (not a [])\n",
    "                self.setofstacks.pop(index)\n",
    "            return value\n",
    "        except:\n",
    "            return None"
   ]
  },
  {
   "cell_type": "code",
   "execution_count": 2,
   "metadata": {},
   "outputs": [
    {
     "name": "stdout",
     "output_type": "stream",
     "text": [
      "--- [76, 74, 5, 1, 3, 16, 71, 18, 73, 33]\n",
      "[[76, 74, 5, 1, 3, 16, 71, 18], [73, 33]]\n",
      "[[76, 74, 5, 1, 3, 16, 71, 18], [73, 33, 99, 0, 50, 89, 90]]\n",
      "90\n",
      "89\n",
      "50\n",
      "0\n",
      "99\n",
      "33\n",
      "73\n",
      "18\n",
      "71\n",
      "16\n",
      "3\n",
      "1\n",
      "5\n",
      "74\n",
      "76\n",
      "None\n",
      "None\n",
      "None\n",
      "None\n",
      "[[]]\n",
      "[[8, 10, 3, 1, 4]]\n"
     ]
    }
   ],
   "source": [
    "import random\n",
    "random.seed = 12\n",
    "ss = SetOfStacks(8, [random.randint(0,100) for _ in range(10)])\n",
    "print(ss.setofstacks)\n",
    "\n",
    "ss.push([99, 0, 50, 89, 90])\n",
    "print(ss.setofstacks)\n",
    "\n",
    "for _ in range(19):\n",
    "    print(ss.pop())\n",
    "print(ss.setofstacks)\n",
    "\n",
    "ss.push([8, 10, 3, 1, 4])\n",
    "print(ss.setofstacks)"
   ]
  }
 ],
 "metadata": {
  "kernelspec": {
   "display_name": "Python 3",
   "language": "python",
   "name": "python3"
  },
  "language_info": {
   "codemirror_mode": {
    "name": "ipython",
    "version": 3
   },
   "file_extension": ".py",
   "mimetype": "text/x-python",
   "name": "python",
   "nbconvert_exporter": "python",
   "pygments_lexer": "ipython3",
   "version": "3.7.3"
  }
 },
 "nbformat": 4,
 "nbformat_minor": 2
}
