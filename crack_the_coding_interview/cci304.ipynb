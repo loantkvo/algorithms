{
 "cells": [
  {
   "cell_type": "code",
   "execution_count": 1,
   "metadata": {},
   "outputs": [
    {
     "name": "stdout",
     "output_type": "stream",
     "text": [
      "\n",
      "76, 6, 8, 63, 68, 77, 35, 41, 56, 24\n",
      "76, 6, 8, 63, 68\n",
      "76, 6, 8, 63, 68, 4, 10, 6, 0, 7\n",
      "A peek at the top of the stack: 7\n"
     ]
    }
   ],
   "source": [
    "from lib.Stack import MyStack"
   ]
  },
  {
   "cell_type": "code",
   "execution_count": 2,
   "metadata": {},
   "outputs": [],
   "source": [
    "class MyQueueFromTwoStacks:\n",
    "    def __init__(self, values=None):\n",
    "        self.queue = MyStack()\n",
    "        self.buffer = MyStack()\n",
    "        if values!=None:\n",
    "            self.push(values)\n",
    "    \n",
    "    def exchange(self, src, dest):\n",
    "        while not src.is_empty():\n",
    "            value = src.pop()\n",
    "            dest.push(value)\n",
    "            \n",
    "    def push_single(self, value):\n",
    "        self.exchange(self.queue, self.buffer)#this implementation wastes lots of \"exchange\" if we have a row of \n",
    "                                            #multiple \"push\" --> MyQueueFromTwoStacks_MoreEfficient (see below)\n",
    "        self.buffer.push(value) #Mystack.push()\n",
    "        self.exchange(self.buffer, self.queue)\n",
    "        \n",
    "    def push(self, values):\n",
    "        try:\n",
    "            for value in values:\n",
    "                self.push_single(value)\n",
    "        except:\n",
    "            self.push_single(values)\n",
    "    \n",
    "    def pop(self):\n",
    "        return self.queue.pop()\n",
    "    \n",
    "    def __str__(self):\n",
    "        return str(self.queue)"
   ]
  },
  {
   "cell_type": "code",
   "execution_count": 20,
   "metadata": {},
   "outputs": [
    {
     "name": "stdout",
     "output_type": "stream",
     "text": [
      "Initial: 3, 26, 24, 29, 17, 43, 76, 35, 79, 13\n",
      "\n",
      "Popping items at the top of the queue :...\n",
      "Item 13 leaving the queue. Remaining queue:  3, 26, 24, 29, 17, 43, 76, 35, 79\n",
      "Item 79 leaving the queue. Remaining queue:  3, 26, 24, 29, 17, 43, 76, 35\n",
      "Item 35 leaving the queue. Remaining queue:  3, 26, 24, 29, 17, 43, 76\n",
      "Item 76 leaving the queue. Remaining queue:  3, 26, 24, 29, 17, 43\n",
      "Item 43 leaving the queue. Remaining queue:  3, 26, 24, 29, 17\n",
      "Item 17 leaving the queue. Remaining queue:  3, 26, 24, 29\n",
      "Item 29 leaving the queue. Remaining queue:  3, 26, 24\n",
      "Item 24 leaving the queue. Remaining queue:  3, 26\n",
      "\n",
      "The queue is growing again:...\n",
      "21, 8, 68, 3, 26\n"
     ]
    }
   ],
   "source": [
    "import random\n",
    "random_list1 = [random.randint(0,100) for _ in range(10)]\n",
    "\n",
    "queue = MyQueueFromTwoStacks()\n",
    "queue.push(random_list1)\n",
    "print(\"Initial:\", queue)\n",
    "\n",
    "print(\"\\nPopping items at the top of the queue :...\")\n",
    "for _ in range(8):\n",
    "    print(\"Item\", queue.pop(), \"leaving the queue. Remaining queue: \", queue)\n",
    "    \n",
    "print(\"\\nThe queue is growing again:...\")\n",
    "random_list2 = [random.randint(0,100) for _ in range(3)]\n",
    "queue.push(random_list2)\n",
    "print(queue)"
   ]
  },
  {
   "cell_type": "code",
   "execution_count": 39,
   "metadata": {},
   "outputs": [],
   "source": [
    "class MyQueueFromTwoStacks_MoreEfficient:\n",
    "    def __init__(self, values=None):\n",
    "        if values==None:\n",
    "            self.oldestAtTop = MyStack()\n",
    "            self.newestAtTop = MyStack()\n",
    "        else:\n",
    "            self.oldestAtTop = MyStack()\n",
    "            self.newestAtTop = MyStack(values)\n",
    "    \n",
    "    def enqueue(self, values):\n",
    "        self.newestAtTop.push(values)\n",
    "        \n",
    "    def transfer(self):\n",
    "        if self.oldestAtTop.size()==0:\n",
    "            while not self.newestAtTop.is_empty():\n",
    "                self.oldestAtTop.push(self.newestAtTop.pop())\n",
    "                \n",
    "    def peek(self):\n",
    "        self.transfer()\n",
    "        return self.oldestAtTop.peek()\n",
    "            \n",
    "    def dequeue(self):\n",
    "        self.transfer()\n",
    "        return self.oldestAtTop.pop()\n",
    "    \n",
    "    def size(self):\n",
    "        return self.oldestAtTop.size() + self.newestAtTop.size()\n",
    "        \n",
    "    def __str__(self):\n",
    "        if self.newestAtTop.size()!=0 and self.oldestAtTop.size()!=0:\n",
    "            return self.newestAtTop.str_reversed_order()  + ', ' + str(self.oldestAtTop)\n",
    "        elif self.oldestAtTop.size()==0:\n",
    "            return self.newestAtTop.str_reversed_order() \n",
    "        else:\n",
    "            return str(self.oldestAtTop)\n",
    "        "
   ]
  },
  {
   "cell_type": "code",
   "execution_count": 40,
   "metadata": {},
   "outputs": [
    {
     "name": "stdout",
     "output_type": "stream",
     "text": [
      "Initial: 3, 26, 24, 29, 17, 43, 76, 35, 79, 13\n",
      "\n",
      "Popping items at the top of the queue :...\n",
      "0 Item 13 leaving the queue. Remaining queue:  3, 26, 24, 29, 17, 43, 76, 35, 79\n",
      "1 Item 79 leaving the queue. Remaining queue:  3, 26, 24, 29, 17, 43, 76, 35\n",
      "2 Item 35 leaving the queue. Remaining queue:  3, 26, 24, 29, 17, 43, 76\n",
      "3 Item 76 leaving the queue. Remaining queue:  3, 26, 24, 29, 17, 43\n",
      "4 Item 43 leaving the queue. Remaining queue:  3, 26, 24, 29, 17\n",
      "5 Item 17 leaving the queue. Remaining queue:  3, 26, 24, 29\n",
      "6 Item 29 leaving the queue. Remaining queue:  3, 26, 24\n",
      "7 Item 24 leaving the queue. Remaining queue:  3, 26\n",
      "8 Item 26 leaving the queue. Remaining queue:  3\n",
      "9 Item 3 leaving the queue. Remaining queue:  \n",
      "10 Item None leaving the queue. Remaining queue:  \n",
      "11 Item None leaving the queue. Remaining queue:  \n",
      "12 Item None leaving the queue. Remaining queue:  \n",
      "13 Item None leaving the queue. Remaining queue:  \n",
      "14 Item None leaving the queue. Remaining queue:  \n",
      "\n",
      "The queue is growing again:...\n",
      "21, 8, 68\n"
     ]
    }
   ],
   "source": [
    "another_queue = MyQueueFromTwoStacks_MoreEfficient()\n",
    "another_queue.enqueue(random_list1)\n",
    "print(\"Initial:\", another_queue)\n",
    "\n",
    "print(\"\\nPopping items at the top of the queue :...\")\n",
    "for _ in range(15):\n",
    "    print(_, \"Item\", another_queue.dequeue(), \"leaving the queue. Remaining queue: \", another_queue)\n",
    "    \n",
    "print(\"\\nThe queue is growing again:...\")\n",
    "another_queue.enqueue(random_list2)\n",
    "print(another_queue)"
   ]
  },
  {
   "cell_type": "code",
   "execution_count": null,
   "metadata": {},
   "outputs": [],
   "source": []
  }
 ],
 "metadata": {
  "kernelspec": {
   "display_name": "Python 3",
   "language": "python",
   "name": "python3"
  },
  "language_info": {
   "codemirror_mode": {
    "name": "ipython",
    "version": 3
   },
   "file_extension": ".py",
   "mimetype": "text/x-python",
   "name": "python",
   "nbconvert_exporter": "python",
   "pygments_lexer": "ipython3",
   "version": "3.7.0"
  }
 },
 "nbformat": 4,
 "nbformat_minor": 2
}
