{
 "cells": [
  {
   "cell_type": "markdown",
   "metadata": {},
   "source": [
    "Cracking the Coding Interview (6th Edition) - 1.1 page 90"
   ]
  },
  {
   "cell_type": "code",
   "execution_count": 6,
   "metadata": {},
   "outputs": [],
   "source": [
    "def check_unique_character_in_string(s):\n",
    "    '''\n",
    "    Input: string s\n",
    "    Output: boolean if s has all unique character\n",
    "    '''\n",
    "    table_len = 256 #Assume that there are a maximum of 256 different characters (ASCII 8bit)\n",
    "    frequency_table = [0 for _ in range(table_len)]\n",
    "    unique_flag = True\n",
    "    for achar in s:\n",
    "        index = ord(achar) % table_len   \n",
    "        if frequency_table[index]!=0:\n",
    "            unique_flag = False\n",
    "            break\n",
    "        else:\n",
    "            frequency_table[index] += 1\n",
    "    return unique_flag"
   ]
  },
  {
   "cell_type": "code",
   "execution_count": 9,
   "metadata": {},
   "outputs": [
    {
     "data": {
      "text/plain": [
       "True"
      ]
     },
     "execution_count": 9,
     "metadata": {},
     "output_type": "execute_result"
    }
   ],
   "source": [
    "s='vAliamer'\n",
    "check_unique_character_in_string(s)"
   ]
  },
  {
   "cell_type": "code",
   "execution_count": 12,
   "metadata": {},
   "outputs": [
    {
     "name": "stdout",
     "output_type": "stream",
     "text": [
      "True\n",
      "True\n",
      "True\n",
      "False\n",
      "False\n"
     ]
    }
   ],
   "source": [
    "dataT = [('abcd'), ('s4fad'), ('')]\n",
    "for s in dataT:\n",
    "    print(check_unique_character_in_string(s))\n",
    "dataF = [('23ds2'), ('hb 627jh=j ()')]\n",
    "for s in dataF:\n",
    "    print(check_unique_character_in_string(s))"
   ]
  },
  {
   "cell_type": "code",
   "execution_count": null,
   "metadata": {},
   "outputs": [],
   "source": []
  }
 ],
 "metadata": {
  "kernelspec": {
   "display_name": "Python 3",
   "language": "python",
   "name": "python3"
  },
  "language_info": {
   "codemirror_mode": {
    "name": "ipython",
    "version": 3
   },
   "file_extension": ".py",
   "mimetype": "text/x-python",
   "name": "python",
   "nbconvert_exporter": "python",
   "pygments_lexer": "ipython3",
   "version": "3.7.0"
  }
 },
 "nbformat": 4,
 "nbformat_minor": 2
}
