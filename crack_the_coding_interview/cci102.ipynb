{
 "cells": [
  {
   "cell_type": "markdown",
   "metadata": {},
   "source": [
    "Cracking the Coding Interview (6th Edition) - 1.2 page 90"
   ]
  },
  {
   "cell_type": "code",
   "execution_count": 6,
   "metadata": {},
   "outputs": [],
   "source": [
    "#Assume there are a maximum of 256 unique characters\n",
    "def check_string_permutation(s1, s2):\n",
    "    len1, len2 = len(s1), len(s2)\n",
    "    if len1!=len2:\n",
    "        return False\n",
    "    table_len = 256\n",
    "    freq_table = [0 for _ in range(table_len)]\n",
    "    for achar in s1:\n",
    "        freq_table[ord(achar)] += 1\n",
    "    for achar in s2:\n",
    "        index = ord(achar)\n",
    "        if freq_table[index]==0:\n",
    "            return False\n",
    "        freq_table[index] -= 1\n",
    "    return True\n"
   ]
  },
  {
   "cell_type": "code",
   "execution_count": 11,
   "metadata": {},
   "outputs": [
    {
     "data": {
      "text/plain": [
       "False"
      ]
     },
     "execution_count": 11,
     "metadata": {},
     "output_type": "execute_result"
    }
   ],
   "source": [
    "s1 = 'waterbottle'\n",
    "s2 = 'atwerobtlle'\n",
    "check_string_permutation(s1, s2)"
   ]
  },
  {
   "cell_type": "code",
   "execution_count": 14,
   "metadata": {},
   "outputs": [
    {
     "name": "stdout",
     "output_type": "stream",
     "text": [
      "True\n",
      "True\n",
      "True\n"
     ]
    }
   ],
   "source": [
    "dataT = (\n",
    "        ('abcd', 'bacd'),\n",
    "        ('3563476', '7334566'),\n",
    "        ('wef34f', 'wffe34'),\n",
    "    )\n",
    "for s1, s2 in dataT:\n",
    "    print(check_string_permutation(s1, s2))"
   ]
  },
  {
   "cell_type": "code",
   "execution_count": 16,
   "metadata": {},
   "outputs": [
    {
     "name": "stdout",
     "output_type": "stream",
     "text": [
      "False\n",
      "False\n",
      "False\n"
     ]
    }
   ],
   "source": [
    "dataF = (\n",
    "        ('abcd', 'd2cba'),\n",
    "        ('2354', '1234'),\n",
    "        ('dcw4f', 'dcw5f'),\n",
    "    )\n",
    "for s1, s2 in dataF:\n",
    "    print(check_string_permutation(s1, s2))"
   ]
  },
  {
   "cell_type": "code",
   "execution_count": null,
   "metadata": {},
   "outputs": [],
   "source": []
  }
 ],
 "metadata": {
  "kernelspec": {
   "display_name": "Python 3",
   "language": "python",
   "name": "python3"
  },
  "language_info": {
   "codemirror_mode": {
    "name": "ipython",
    "version": 3
   },
   "file_extension": ".py",
   "mimetype": "text/x-python",
   "name": "python",
   "nbconvert_exporter": "python",
   "pygments_lexer": "ipython3",
   "version": "3.7.0"
  }
 },
 "nbformat": 4,
 "nbformat_minor": 2
}
