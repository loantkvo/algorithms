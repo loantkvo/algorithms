{
 "cells": [
  {
   "cell_type": "code",
   "execution_count": null,
   "metadata": {},
   "outputs": [],
   "source": [
    "from lib.Stack import MyStack"
   ]
  },
  {
   "cell_type": "code",
   "execution_count": 1,
   "metadata": {},
   "outputs": [],
   "source": [
    "class StackWithMin:\n",
    "    def __init__(self, values=None):\n",
    "        self.stack = MyStack()\n",
    "        self.min = MyStack()\n",
    "        \n",
    "    def pop(self):\n",
    "        if self.stack.is_empty():\n",
    "            return None\n",
    "        top_stack = self.stack.pop()\n",
    "        \n",
    "    \n",
    "    def push_single(self, value):\n",
    "        self.stack.append(value)\n",
    "        if self.min==[] or self.min[-1]>=value: #in the '=' case, we also need to append min \n",
    "                                                #so that we can avoid error at popping out the min\n",
    "            self.min.append(value)\n",
    "\n",
    "    def push(self, values):\n",
    "        self.stack.push(values)\n",
    "        try:\n",
    "            for value in values:\n",
    "                if value<=self.min.peek():\n",
    "                    self.min.push(value)\n",
    "        except:\n",
    "            if value<=self.min.peek():\n",
    "                self.min.push(value)\n",
    "        \n",
    "    def get_stack_min(self):\n",
    "        if self.is_empty():\n",
    "            return None\n",
    "        else:\n",
    "            return self.min[-1]\n",
    "    \n",
    "    def is_empty(self):\n",
    "        return len(self.stack)==0\n",
    "    \n",
    "    def __str__(self):\n",
    "        return str(self.stack)"
   ]
  },
  {
   "cell_type": "code",
   "execution_count": 2,
   "metadata": {},
   "outputs": [
    {
     "name": "stdout",
     "output_type": "stream",
     "text": [
      "Push multiple values\n",
      "[9, 4, 10, 3, 12, 8]\n",
      "Min: 3\n",
      "Pop: 8\n",
      "mystack: [9, 4, 10, 3, 12]\n",
      "Min: 3\n",
      "push a single value\n",
      "After pushing 2 , mystack: [9, 4, 10, 3, 12, 2]\n",
      "Min: 2\n",
      "Push multiple values\n",
      "After pushing [13, 5, 2] , mystack: [9, 4, 10, 3, 12, 2, 13, 5, 2]\n",
      "Min: 2\n",
      "[9, 4, 3, 2, 2]\n",
      "Pop: 2\n",
      "after pop: [9, 4, 10, 3, 12, 2, 13, 5]\n",
      "Min: 2\n",
      "After pop out 5 , mystack: [9, 4, 10, 3, 12, 2, 13]\n",
      "min: [9, 4, 3, 2]\n",
      "After pop out 13 , mystack: [9, 4, 10, 3, 12, 2]\n",
      "min: [9, 4, 3, 2]\n",
      "After pop out 2 , mystack: [9, 4, 10, 3, 12]\n",
      "min: [9, 4, 3]\n",
      "After pop out 12 , mystack: [9, 4, 10, 3]\n",
      "min: [9, 4, 3]\n",
      "After pop out 3 , mystack: [9, 4, 10]\n",
      "min: [9, 4]\n",
      "After pop out 10 , mystack: [9, 4]\n",
      "min: [9, 4]\n",
      "After pop out 4 , mystack: [9]\n",
      "min: [9]\n",
      "After pop out 9 , mystack: []\n",
      "min: []\n"
     ]
    }
   ],
   "source": [
    "mystack = StackWithMin([9, 4, 10, 3, 12, 8])\n",
    "print(mystack)\n",
    "print(\"Min:\", mystack.get_stack_min())\n",
    "print(\"Pop:\", mystack.pop())\n",
    "print(\"mystack:\", mystack)\n",
    "print(\"Min:\", mystack.get_stack_min())\n",
    "value = 2\n",
    "mystack.push(value)\n",
    "print(\"After pushing\", value,\", mystack:\", mystack)\n",
    "print(\"Min:\", mystack.get_stack_min())\n",
    "value = [13, 5, 2]\n",
    "mystack.push(value)\n",
    "print(\"After pushing\", value,\", mystack:\", mystack)\n",
    "print(\"Min:\", mystack.get_stack_min())\n",
    "print(mystack.min)\n",
    "print(\"Pop:\", mystack.pop())\n",
    "print(\"after pop:\", mystack)\n",
    "print(\"Min:\", mystack.get_stack_min())\n",
    "popvalue = 1\n",
    "while 1:\n",
    "    popvalue = mystack.pop()\n",
    "    if popvalue == None:\n",
    "        break\n",
    "    print(\"After pop out\", popvalue, \", mystack:\", mystack)\n",
    "    print(\"min:\", mystack.min)\n",
    "\n",
    "\n"
   ]
  }
 ],
 "metadata": {
  "kernelspec": {
   "display_name": "Python 3",
   "language": "python",
   "name": "python3"
  },
  "language_info": {
   "codemirror_mode": {
    "name": "ipython",
    "version": 3
   },
   "file_extension": ".py",
   "mimetype": "text/x-python",
   "name": "python",
   "nbconvert_exporter": "python",
   "pygments_lexer": "ipython3",
   "version": "3.7.0"
  }
 },
 "nbformat": 4,
 "nbformat_minor": 2
}
