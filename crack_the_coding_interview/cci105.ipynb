{
 "cells": [
  {
   "cell_type": "markdown",
   "metadata": {},
   "source": [
    "Cracking the Coding Interview (6th Edition) - 1.5 page 90"
   ]
  },
  {
   "cell_type": "code",
   "execution_count": 10,
   "metadata": {},
   "outputs": [],
   "source": [
    "def one_or_zero_edit_away(s1, s2):\n",
    "    l1, l2 = len(s1), len(s2)\n",
    "    if abs(l1-l2)>1:\n",
    "        return False\n",
    "    \n",
    "    if l1>l2: #swap s1 and s2 so that s1 is always equal or shorter than s2\n",
    "        s1, s2 = s2, s1\n",
    "        l1, l2 = l2, l1\n",
    "        \n",
    "    idx1, idx2 = 0, 0\n",
    "    one_zero_edit_flag = True\n",
    "    \n",
    "    while idx2<l2:\n",
    "        #print(idx1, idx2, one_zero_edit_flag, s1[idx1], s2[idx2])\n",
    "        if idx1>=l1 or s1[idx1] != s2[idx2]:\n",
    "            if one_zero_edit_flag:\n",
    "                one_zero_edit_flag = False\n",
    "            else:\n",
    "                return False\n",
    "            if l1<l2:\n",
    "                idx1 -= 1\n",
    "        idx1 += 1\n",
    "        idx2 += 1\n",
    "    return True"
   ]
  },
  {
   "cell_type": "code",
   "execution_count": 11,
   "metadata": {},
   "outputs": [
    {
     "data": {
      "text/plain": [
       "True"
      ]
     },
     "execution_count": 11,
     "metadata": {},
     "output_type": "execute_result"
    }
   ],
   "source": [
    "s1 = 'pale'; s2 = 'pak' #the book's last solution (combining one-delete/insert with one-replace) might fail to detect this case\n",
    "s1 = 'pale'; s2 = 'pal'\n",
    "s1 = 'pal'; s2 = 'pake'\n",
    "s1 = 'pales'; s2 = 'pale'\n",
    "s1 = 'pale'; s2 = 'bale'\n",
    "#s1 = 'pale'; s2 = 'bake'\n",
    "one_or_zero_edit_away(s1, s2)"
   ]
  },
  {
   "cell_type": "code",
   "execution_count": 14,
   "metadata": {},
   "outputs": [
    {
     "name": "stdout",
     "output_type": "stream",
     "text": [
      "Correct\n",
      "Correct\n",
      "Correct\n",
      "Correct\n",
      "Correct\n",
      "Correct\n",
      "Correct\n",
      "Correct\n",
      "Correct\n",
      "Correct\n",
      "Correct\n",
      "Correct\n",
      "Correct\n",
      "Correct\n",
      "Correct\n",
      "Correct\n",
      "Correct\n",
      "Correct\n",
      "Correct\n",
      "Correct\n",
      "Correct\n"
     ]
    }
   ],
   "source": [
    "data = [\n",
    "        ('pale', 'ple', True),\n",
    "        ('pales', 'pale', True),\n",
    "        ('pale', 'bale', True),\n",
    "        ('paleabc', 'pleabc', True),\n",
    "        ('pale', 'ble', False),\n",
    "        ('a', 'b', True),\n",
    "        ('', 'd', True),\n",
    "        ('d', 'de', True),\n",
    "        ('pale', 'pale', True),\n",
    "        ('pale', 'ple', True),\n",
    "        ('ple', 'pale', True),\n",
    "        ('pale', 'bale', True),\n",
    "        ('pale', 'bake', False),\n",
    "        ('pale', 'pse', False),\n",
    "        ('ples', 'pales', True),\n",
    "        ('pale', 'pas', False),\n",
    "        ('pas', 'pale', False),\n",
    "        ('pale', 'pkle', True),\n",
    "        ('pkle', 'pable', False),\n",
    "        ('pal', 'palks', False),\n",
    "        ('palks', 'pal', False)\n",
    "    ]\n",
    "for s1, s2, status in data:\n",
    "    if status != one_or_zero_edit_away(s1, s2):\n",
    "        print(\"My code is wrong for the case:\", s1, s2, status)\n",
    "    else:\n",
    "        print('Correct')"
   ]
  },
  {
   "cell_type": "code",
   "execution_count": null,
   "metadata": {},
   "outputs": [],
   "source": []
  }
 ],
 "metadata": {
  "kernelspec": {
   "display_name": "Python 3",
   "language": "python",
   "name": "python3"
  }
 },
 "nbformat": 4,
 "nbformat_minor": 2
}
