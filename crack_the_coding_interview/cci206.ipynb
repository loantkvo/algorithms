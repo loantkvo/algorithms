{
 "cells": [
  {
   "cell_type": "code",
   "execution_count": 1,
   "metadata": {},
   "outputs": [],
   "source": [
    "%load_ext autoreload\n",
    "%autoreload 1\n",
    "%aimport lib.LinkedList\n",
    "from lib.LinkedList import LinkedList"
   ]
  },
  {
   "cell_type": "code",
   "execution_count": 7,
   "metadata": {},
   "outputs": [],
   "source": [
    "def check_palindrome_for_linked_list(ll):\n",
    "    L = len(ll)\n",
    "    curr = ll.head\n",
    "    buffer = []\n",
    "    for _ in range(L//2):\n",
    "        buffer.append(curr.value)\n",
    "        curr = curr.next\n",
    "    if L%2==1:\n",
    "        curr = curr.next\n",
    "    for i in range(L//2-1,-1,-1):\n",
    "        if buffer[i] != curr.value:\n",
    "            return False\n",
    "        else:\n",
    "            curr = curr.next\n",
    "    return True"
   ]
  },
  {
   "cell_type": "code",
   "execution_count": 10,
   "metadata": {},
   "outputs": [
    {
     "name": "stdout",
     "output_type": "stream",
     "text": [
      "True\n",
      "True\n",
      "False\n",
      "False\n"
     ]
    }
   ],
   "source": [
    "ll_true = LinkedList([1, 2, 3, 4, 5, 4, 3, 2, 1])\n",
    "print(check_palindrome_for_linked_list(ll_true))\n",
    "ll_true = LinkedList([1, 2, 3, 4, 4, 3, 2, 1])\n",
    "print(check_palindrome_for_linked_list(ll_true))\n",
    "ll_false = LinkedList([1, 2, 3, 4, 5, 6, 7, 8, 9])\n",
    "print(check_palindrome_for_linked_list(ll_false))\n",
    "ll_false = LinkedList([1, 2, 3, 4, 1, 2, 3, 4])\n",
    "print(check_palindrome_for_linked_list(ll_false))"
   ]
  },
  {
   "cell_type": "code",
   "execution_count": 2,
   "metadata": {},
   "outputs": [],
   "source": [
    "def check_palindrome_permutation_for_linked_list(ll):\n",
    "    '''\n",
    "    Verify if linked list is a PERMUTATION of a palindrome\n",
    "    Empty linked list is considered as \"palindrome permutation\"\n",
    "    ''' \n",
    "    \n",
    "    freq_dict = {}\n",
    "    node = ll.head\n",
    "    while node is not None:\n",
    "        freq_dict[node.value] = (freq_dict.get(node.value,0) + 1) % 2\n",
    "        node = node.next\n",
    "    total_odd_elements = sum(freq_dict.values())\n",
    "    #print(freq_dict, total_odd_elements)\n",
    "    return total_odd_elements==0 or total_odd_elements==1"
   ]
  },
  {
   "cell_type": "code",
   "execution_count": 3,
   "metadata": {},
   "outputs": [
    {
     "name": "stdout",
     "output_type": "stream",
     "text": [
      "True\n",
      "False\n",
      "True\n",
      "False\n"
     ]
    }
   ],
   "source": [
    "ll_true = LinkedList([1, 2, 3, 4, 5, 4, 3, 2, 1])\n",
    "print(check_palindrome_permutation_for_linked_list(ll_true))\n",
    "ll_false = LinkedList([1, 2, 3, 4, 5, 6, 7, 8, 9])\n",
    "print(check_palindrome_permutation_for_linked_list(ll_false))\n",
    "ll_false = LinkedList()\n",
    "print(check_palindrome_permutation_for_linked_list(ll_false))\n",
    "ll_false = LinkedList([1, 2, 3, 4, 5, 1, 2, 3])\n",
    "print(check_palindrome_permutation_for_linked_list(ll_false))"
   ]
  },
  {
   "cell_type": "code",
   "execution_count": 6,
   "metadata": {},
   "outputs": [
    {
     "data": {
      "text/plain": [
       "[3, 2, 1, 0]"
      ]
     },
     "execution_count": 6,
     "metadata": {},
     "output_type": "execute_result"
    }
   ],
   "source": [
    "list(range(3,-1,-1))"
   ]
  },
  {
   "cell_type": "code",
   "execution_count": null,
   "metadata": {},
   "outputs": [],
   "source": []
  }
 ],
 "metadata": {
  "kernelspec": {
   "display_name": "Python 3",
   "language": "python",
   "name": "python3"
  },
  "language_info": {
   "codemirror_mode": {
    "name": "ipython",
    "version": 3
   },
   "file_extension": ".py",
   "mimetype": "text/x-python",
   "name": "python",
   "nbconvert_exporter": "python",
   "pygments_lexer": "ipython3",
   "version": "3.7.0"
  }
 },
 "nbformat": 4,
 "nbformat_minor": 2
}
