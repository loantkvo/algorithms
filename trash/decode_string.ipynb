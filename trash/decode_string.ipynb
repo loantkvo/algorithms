{
 "cells": [
  {
   "cell_type": "code",
   "execution_count": 1,
   "metadata": {},
   "outputs": [],
   "source": [
    "def decode_string_recursive(input):\n",
    "    \"\"\"\n",
    "    Test cases:\n",
    "    decode_string_recursive('abc2')\n",
    "    decode_string_recursive('abc2[ui]')\n",
    "    decode_string_recursive('abc2e[ui]')\n",
    "    decode_string_recursive('abc2[ui]jk3[op]')\n",
    "    decode_string_recursive('abc2[ui]3[op]')\n",
    "\n",
    "    decode_string_recursive('[ui]jk3[op]')\n",
    "    decode_string_recursive('1[ui]jk3[op]')\n",
    "    decode_string_recursive('1[ui]jk3[op3]9')\n",
    "    decode_string_recursive('1[ui]jk3[op3r]9')\n",
    "\n",
    "    decode_string_recursive('abc2[de3[08]3]')\n",
    "    decode_string_recursive('abc2[de3[08i]3g]')\n",
    "\n",
    "    decode_string_recursive('abc2[de3[08i]3g]_3[tea1[pot]]__')\n",
    "    \"\"\"\n",
    "    def decode_string(input, i=0):\n",
    "        \"\"\"\n",
    "        Assuming there is no illegitimate '[' or ']'.\n",
    "        Assuming if there is no digit right before '[...]' then the content of the bracket will be remove (rep = 0)\n",
    "        Scanning each character in input.\n",
    "        - If the character is not a number or a '[' or ']', then add it to the output\n",
    "        - If the character is a number digit, then store the digit into a buffer for number digits num_buf\n",
    "            + if the last number digit is not followed by an '[', the content of num_buf is added into output\n",
    "            + if it is followed by an '[', its value is the repetition value\n",
    "        - \n",
    "        \"\"\"\n",
    "        n = len(input)\n",
    "        if n == 0:\n",
    "            return ''\n",
    "        num_buf, output = '', ''\n",
    "        while i < n:\n",
    "            c = input[i]\n",
    "            if (c < '0' or c > '9') and c != '[' and c != ']': #if it is not a number or a '[' or ']'\n",
    "                if num_buf != '': # if the last number digit is not followed by an '['\n",
    "                    output += num_buf\n",
    "                    num_buf = ''\n",
    "                output += c\n",
    "                i += 1 # increase i to move to the next character \n",
    "            elif c == '[':\n",
    "                # all the digit right before the '[' makes up the repetition time\n",
    "                if num_buf != '':\n",
    "                    rep = int(num_buf)\n",
    "                else:\n",
    "                    rep = 0 # if there is no number before the '[', repetition time = 0, i.e., deleting '[...]'\n",
    "                num_buf = '' # reset to '' after the digits in the num_buf are translated into repetition time\n",
    "                             # to avoid num_buf content will be added into output\n",
    "                bracket_content, i = decode_string(input, i+1) # Recursively call the function for input[i+1:]\n",
    "                                                               # Content between this open '[' and its corresponding\n",
    "                                                               # ']' will be return in bracket_content\n",
    "                                                               # The returned i value reflects the remaining\n",
    "                                                               # of the string right after the ']'\n",
    "                                                               \n",
    "                output += bracket_content * rep\n",
    "            elif c == ']':\n",
    "                # if there are digits right before ']', they needed to be added into the output\n",
    "                if num_buf != '':\n",
    "                    output += num_buf\n",
    "                # the ']' signifies the end of the content in the current '[...]', need to return the content\n",
    "                # inside '[...]' and the index of the beginning of the remaining string\n",
    "                return output, i + 1\n",
    "            else:# if c is a digit, add c into a digit buffer:\n",
    "                num_buf += c\n",
    "                i += 1 # increase i to move to the next character \n",
    "        return output + num_buf, i\n",
    "    output, _ = decode_string(input)\n",
    "    return output\n",
    "\n"
   ]
  },
  {
   "cell_type": "code",
   "execution_count": 2,
   "metadata": {},
   "outputs": [
    {
     "data": {
      "text/plain": [
       "'abcde08i08i08i3gde08i08i08i3g_teapotteapotteapot__'"
      ]
     },
     "execution_count": 2,
     "metadata": {},
     "output_type": "execute_result"
    }
   ],
   "source": [
    "decode_string_recursive('abc2[de3[08i]3g]_3[tea1[pot]]__')"
   ]
  },
  {
   "cell_type": "code",
   "execution_count": null,
   "metadata": {},
   "outputs": [],
   "source": []
  }
 ],
 "metadata": {
  "kernelspec": {
   "display_name": "Python 3",
   "language": "python",
   "name": "python3"
  },
  "language_info": {
   "codemirror_mode": {
    "name": "ipython",
    "version": 3
   },
   "file_extension": ".py",
   "mimetype": "text/x-python",
   "name": "python",
   "nbconvert_exporter": "python",
   "pygments_lexer": "ipython3",
   "version": "3.7.3"
  }
 },
 "nbformat": 4,
 "nbformat_minor": 2
}
