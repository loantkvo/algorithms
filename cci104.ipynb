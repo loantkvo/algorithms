{
 "cells": [
  {
   "cell_type": "markdown",
   "metadata": {},
   "source": [
    "Cracking the Coding Interview (6th Edition) - 1.4 page 90"
   ]
  },
  {
   "cell_type": "code",
   "execution_count": 20,
   "metadata": {},
   "outputs": [],
   "source": [
    "def check_palindrome_permutation(s):\n",
    "    s = s.lower()\n",
    "    s_len = 0 #s_len: length of string s without counting blank spaces\n",
    "    tab_len = 26 #assume that there are only 26 unique characters\n",
    "    freq_table = [0 for _ in range(tab_len)]\n",
    "    for achar in s:\n",
    "        if achar != ' ':\n",
    "            s_len += 1\n",
    "            index = ord(achar)%tab_len\n",
    "            freq_table[index] += 1\n",
    "            #print(achar, freq_table[index])\n",
    "    found_odd_freq = False\n",
    "    for freq in freq_table:\n",
    "        if freq%2!=0:\n",
    "            if s_len%2==0 or found_odd_freq:\n",
    "                return False\n",
    "            else:\n",
    "                found_odd_freq = True\n",
    "    return True"
   ]
  },
  {
   "cell_type": "code",
   "execution_count": 21,
   "metadata": {},
   "outputs": [
    {
     "name": "stdout",
     "output_type": "stream",
     "text": [
      "True\n",
      "True\n",
      "True\n",
      "True\n",
      "True\n",
      "True\n",
      "True\n",
      "True\n"
     ]
    }
   ],
   "source": [
    "data = [\n",
    "        ('Tact Coa', True),\n",
    "        ('jhsabckuj ahjsbckj', True),\n",
    "        ('Able was I ere I saw Elba', True),\n",
    "        ('So patient a nurse to nurse a patient so', False),\n",
    "        ('Random Words', False),\n",
    "        ('Not a Palindrome', False),\n",
    "        ('no x in nixon', True),\n",
    "        ('azAZ', True)]\n",
    "for s, status in data:\n",
    "    my_status = check_palindrome_permutation(s)\n",
    "    print(my_status == status)"
   ]
  },
  {
   "cell_type": "code",
   "execution_count": null,
   "metadata": {},
   "outputs": [],
   "source": []
  }
 ],
 "metadata": {
  "kernelspec": {
   "display_name": "Python 3",
   "language": "python",
   "name": "python3"
  },
  "language_info": {
   "codemirror_mode": {
    "name": "ipython",
    "version": 3
   },
   "file_extension": ".py",
   "mimetype": "text/x-python",
   "name": "python",
   "nbconvert_exporter": "python",
   "pygments_lexer": "ipython3",
   "version": "3.7.0"
  }
 },
 "nbformat": 4,
 "nbformat_minor": 2
}
