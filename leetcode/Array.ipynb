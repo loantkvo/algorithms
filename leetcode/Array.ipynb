{
 "cells": [
  {
   "cell_type": "markdown",
   "metadata": {},
   "source": [
    "## 41. First Missing Positive\n",
    "https://leetcode.com/problems/first-missing-positive/\n",
    "    \n",
    "Given an unsorted integer array, find the smallest missing positive integer.\n",
    "\n",
    "Example 1:\n",
    "\n",
    "Input: [1,2,0]\n",
    "Output: 3\n",
    "Example 2:\n",
    "\n",
    "Input: [3,4,-1,1]\n",
    "Output: 2\n",
    "Example 3:\n",
    "\n",
    "Input: [7,8,9,11,12]\n",
    "Output: 1\n",
    "Note:\n",
    "\n",
    "Your algorithm should run in O(n) time and uses constant extra space."
   ]
  },
  {
   "cell_type": "markdown",
   "metadata": {},
   "source": [
    "The trick is that: the answer can't be a number that is greater than the len of the input nums. Neither can it be non-positive\n",
    "\n",
    "Runtime: 36 ms, faster than 97.34% of Python3 online submissions for First Missing Positive.\n",
    "Memory Usage: 13.7 MB, less than 5.16% of Python3 online submissions for First Missing Positive."
   ]
  },
  {
   "cell_type": "code",
   "execution_count": null,
   "metadata": {},
   "outputs": [],
   "source": [
    "class Solution:\n",
    "    def firstMissingPositive(self, nums: List[int]) -> int:\n",
    "        i, n = 0, len(nums)\n",
    "        while i < n:\n",
    "            #print(i, nums)\n",
    "            if nums[i] <= 0 or nums[i] > n:\n",
    "                nums[i] = 0\n",
    "            elif nums[i] != i + 1:\n",
    "                idx = nums[i] - 1\n",
    "                if nums[idx] != nums[i]:\n",
    "                    nums[i], nums[idx] = nums[idx], nums[i]\n",
    "                    i -= 1\n",
    "                else:\n",
    "                    nums[i] = 0\n",
    "            #else: nums[i] == i + 1: do nothing\n",
    "            i += 1\n",
    "            \n",
    "        for idx in range(n):\n",
    "            if nums[idx] == 0:\n",
    "                return idx + 1\n",
    "        return n + 1\n",
    "\n",
    "\n",
    "                \n",
    "                \n",
    "                \n",
    "                "
   ]
  },
  {
   "cell_type": "markdown",
   "metadata": {},
   "source": [
    "## 628. Maximum Product of Three Numbers\n",
    "https://leetcode.com/problems/maximum-product-of-three-numbers/\n",
    "\n",
    "Given an integer array, find three numbers whose product is maximum and output the maximum product.\n",
    "\n",
    "Example 1:\n",
    "\n",
    "Input: [1,2,3]\n",
    "Output: 6\n",
    " \n",
    "\n",
    "Example 2:\n",
    "\n",
    "Input: [1,2,3,4]\n",
    "Output: 24\n",
    " \n",
    "\n",
    "Note:\n",
    "\n",
    "The length of the given array will be in range [3,104] and all elements are in the range [-1000, 1000].\n",
    "Multiplication of any three numbers in the input won't exceed the range of 32-bit signed integer."
   ]
  },
  {
   "cell_type": "markdown",
   "metadata": {},
   "source": [
    "Runtime: 328 ms, faster than 24.52%\n",
    "Memory Usage: 15 MB, less than 5.17%"
   ]
  },
  {
   "cell_type": "code",
   "execution_count": null,
   "metadata": {},
   "outputs": [],
   "source": [
    "class Solution:\n",
    "   \n",
    "    def maximumProduct(self, nums: List[int]) -> int:\n",
    "        \n",
    "        n = len(nums)\n",
    "        nums = sorted(nums)\n",
    "        \n",
    "        \n",
    "        prod1 = nums[-1] * nums[0] * nums[1]\n",
    "        prod2 = nums[-1] * nums[-2] * nums[-3]\n",
    "        return prod1 if prod1 > prod2 else prod2\n",
    "  "
   ]
  },
  {
   "cell_type": "markdown",
   "metadata": {},
   "source": [
    "Runtime: 308 ms, faster than 77.38% of Python3 online submissions for Maximum Product of Three Numbers.\n",
    "Memory Usage: 15 MB, less than 5.17%"
   ]
  },
  {
   "cell_type": "code",
   "execution_count": null,
   "metadata": {},
   "outputs": [],
   "source": [
    "class Solution:\n",
    "    def maximumProduct(self, nums: List[int]) -> int:\n",
    "        # we DO NOT need to sort the whole array\n",
    "        # We only need to know the two smallest numbers and the three largest ones\n",
    "        max1, max2, max3, min1, min2 = -2**31, -2**31, -2**31, 2**31 - 1, 2**31 - 1\n",
    "        for num in nums:\n",
    "            if num > max1:\n",
    "                max1, max2, max3 = num, max1, max2\n",
    "            elif num > max2:\n",
    "                max2, max3 = num, max2\n",
    "            elif num > max3:\n",
    "                max3 = num\n",
    "                \n",
    "            if num < min1:\n",
    "                min1, min2 = num, min1\n",
    "            elif num < min2:\n",
    "                min2 = num\n",
    "        #print(min1, min2, max3, max2, max1)        \n",
    "        prod1 = max1 * max2 * max3\n",
    "        prod2 = max1 * min1 * min2\n",
    "        return prod1 if prod1 > prod2 else prod2\n",
    "    "
   ]
  },
  {
   "cell_type": "markdown",
   "metadata": {},
   "source": [
    "## 978. Longest Turbulent Subarray\n",
    "https://leetcode.com/problems/longest-turbulent-subarray/\n",
    "A subarray A[i], A[i+1], ..., A[j] of A is said to be turbulent if and only if:\n",
    "\n",
    "For i <= k < j, A[k] > A[k+1] when k is odd, and A[k] < A[k+1] when k is even;\n",
    "OR, for i <= k < j, A[k] > A[k+1] when k is even, and A[k] < A[k+1] when k is odd.\n",
    "That is, the subarray is turbulent if the comparison sign flips between each adjacent pair of elements in the subarray.\n",
    "\n",
    "Return the length of a maximum size turbulent subarray of A.\n",
    "\n",
    " \n",
    "\n",
    "Example 1:\n",
    "\n",
    "Input: [9,4,2,10,7,8,8,1,9]\n",
    "Output: 5\n",
    "Explanation: (A[1] > A[2] < A[3] > A[4] < A[5])\n",
    "Example 2:\n",
    "\n",
    "Input: [4,8,12,16]\n",
    "Output: 2\n",
    "Example 3:\n",
    "\n",
    "Input: [100]\n",
    "Output: 1\n",
    " \n",
    "\n",
    "Note:\n",
    "\n",
    "1 <= A.length <= 40000\n",
    "0 <= A[i] <= 10^9\n"
   ]
  },
  {
   "cell_type": "markdown",
   "metadata": {},
   "source": [
    "Runtime: 500 ms, faster than 100.00% of Python3 online submissions for Longest Turbulent Subarray.\n",
    "Memory Usage: 18 MB, less than 14.29%"
   ]
  },
  {
   "cell_type": "code",
   "execution_count": null,
   "metadata": {},
   "outputs": [],
   "source": [
    "class Solution:\n",
    "    def maxTurbulenceSize(self, A: List[int]) -> int:\n",
    "        n = len(A)\n",
    "        if n == 1:\n",
    "            return 1\n",
    "        \n",
    "        prev_sign, c, max_c = 0, 0, 0\n",
    "        for i in range(1, n):\n",
    "            curr_sign = A[i] - A[i - 1]\n",
    "            sign = prev_sign * curr_sign\n",
    "            if sign < 0:\n",
    "                c += 1\n",
    "            elif curr_sign == 0:\n",
    "                c = 1\n",
    "            else:\n",
    "                c = 2\n",
    "            if c > max_c:\n",
    "                max_c = c\n",
    "            #print(c, max_c, prev_sign, curr_sign)\n",
    "            prev_sign = curr_sign\n",
    "        return max_c "
   ]
  },
  {
   "cell_type": "markdown",
   "metadata": {},
   "source": [
    "## 121. Best Time to Buy and Sell Stock\n",
    "Easy\n",
    "\n",
    "https://leetcode.com/problems/best-time-to-buy-and-sell-stock/\n",
    "Say you have an array for which the ith element is the price of a given stock on day i.\n",
    "\n",
    "If you were only permitted to complete at most one transaction (i.e., buy one and sell one share of the stock), design an algorithm to find the maximum profit.\n",
    "\n",
    "Note that you cannot sell a stock before you buy one.\n",
    "\n",
    "Example 1:\n",
    "\n",
    "Input: [7,1,5,3,6,4]\n",
    "Output: 5\n",
    "Explanation: Buy on day 2 (price = 1) and sell on day 5 (price = 6), profit = 6-1 = 5.\n",
    "             Not 7-1 = 6, as selling price needs to be larger than buying price.\n",
    "Example 2:\n",
    "\n",
    "Input: [7,6,4,3,1]\n",
    "Output: 0\n",
    "Explanation: In this case, no transaction is done, i.e. max profit = 0."
   ]
  },
  {
   "cell_type": "code",
   "execution_count": null,
   "metadata": {},
   "outputs": [],
   "source": [
    "Runtime: 68 ms, faster than 93.00% of Python3 online submissions for Best Time to Buy and Sell Stock.\n",
    "Memory Usage: 14.9 MB, less than 5.43%"
   ]
  },
  {
   "cell_type": "code",
   "execution_count": null,
   "metadata": {},
   "outputs": [],
   "source": [
    "class Solution:\n",
    "    def maxProfit(self, prices: List[int]) -> int:\n",
    "        min_price = 2**31 - 1\n",
    "        max_profit = 0\n",
    "        for price in prices:\n",
    "            if price < min_price:\n",
    "                min_price = price\n",
    "            elif max_profit < price - min_price:\n",
    "                max_profit = price - min_price\n",
    "            #print(price, min_price, max_profit)\n",
    "                    \n",
    "        return max_profit\n",
    "                \n",
    "            \n",
    "            "
   ]
  },
  {
   "cell_type": "markdown",
   "metadata": {},
   "source": [
    "\n",
    "## 697. Degree of an Array\n",
    "\n",
    "https://leetcode.com/problems/degree-of-an-array/\n",
    "\n",
    "Easy\n",
    "\n",
    "Given a non-empty array of non-negative integers nums, the degree of this array is defined as the maximum frequency of any one of its elements.\n",
    "\n",
    "Your task is to find the smallest possible length of a (contiguous) subarray of nums, that has the same degree as nums.\n",
    "\n",
    "Example 1:\n",
    "\n",
    "Input: [1, 2, 2, 3, 1]\n",
    "Output: 2\n",
    "Explanation: \n",
    "The input array has a degree of 2 because both elements 1 and 2 appear twice.\n",
    "Of the subarrays that have the same degree:\n",
    "[1, 2, 2, 3, 1], [1, 2, 2, 3], [2, 2, 3, 1], [1, 2, 2], [2, 2, 3], [2, 2]\n",
    "The shortest length is 2. So return 2.\n",
    "Example 2:\n",
    "\n",
    "Input: [1,2,2,3,1,4,2]\n",
    "Output: 6\n",
    "Note:\n",
    "\n",
    "nums.length will be between 1 and 50,000.\n",
    "nums[i] will be an integer between 0 and 49,999."
   ]
  },
  {
   "cell_type": "markdown",
   "metadata": {},
   "source": [
    "Runtime: 276 ms, faster than 53.01% of Python3 online submissions for Degree of an Array.\n",
    "Memory Usage: 16.1 MB, less than 8.33% o"
   ]
  },
  {
   "cell_type": "code",
   "execution_count": null,
   "metadata": {},
   "outputs": [],
   "source": [
    "class Solution:\n",
    "    def findShortestSubArray(self, nums: List[int]) -> int:\n",
    "        from collections import defaultdict\n",
    "        count = defaultdict(list)\n",
    "        for i, num in enumerate(nums):\n",
    "            count[num].append(i)\n",
    "        min_len = len(nums)\n",
    "        max_freq = 1\n",
    "        #print(count)\n",
    "        for val in count.values():\n",
    "            if max_freq < len(val):\n",
    "                min_len = val[-1] - val[0] + 1\n",
    "                max_freq = len(val)\n",
    "            elif max_freq == len(val):\n",
    "                if val[-1] - val[0] + 1 < min_len: \n",
    "                    min_len = val[-1] - val[0] + 1\n",
    "        return min_len\n",
    "            \n",
    "        \n",
    "        \n",
    "        \n",
    "        "
   ]
  }
 ],
 "metadata": {
  "kernelspec": {
   "display_name": "Python 3",
   "language": "python",
   "name": "python3"
  },
  "language_info": {
   "codemirror_mode": {
    "name": "ipython",
    "version": 3
   },
   "file_extension": ".py",
   "mimetype": "text/x-python",
   "name": "python",
   "nbconvert_exporter": "python",
   "pygments_lexer": "ipython3",
   "version": "3.7.3"
  }
 },
 "nbformat": 4,
 "nbformat_minor": 2
}
