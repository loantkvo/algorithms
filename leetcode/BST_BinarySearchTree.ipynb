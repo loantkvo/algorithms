{
 "cells": [
  {
   "cell_type": "code",
   "execution_count": null,
   "metadata": {},
   "outputs": [],
   "source": [
    "## 493. Reverse Pairs\n",
    "https://leetcode.com/problems/reverse-pairs/\n",
    "\n",
    "Given an array nums, we call (i, j) an important reverse pair if i < j and nums[i] > 2*nums[j].\n",
    "\n",
    "You need to return the number of important reverse pairs in the given array.\n",
    "\n",
    "Example1:\n",
    "\n",
    "Input: [1,3,2,3,1]\n",
    "Output: 2\n",
    "Example2:\n",
    "\n",
    "Input: [2,4,3,5,1]\n",
    "Output: 3\n",
    "Note:\n",
    "\n",
    "The length of the given array will not exceed 50,000.\n",
    "All the numbers in the input array are in the range of 32-bit integer."
   ]
  },
  {
   "cell_type": "code",
   "execution_count": null,
   "metadata": {},
   "outputs": [],
   "source": [
    "class Solution:\n",
    "    def reversePairs(self, nums: List[int]) -> int:\n",
    "        # BINARY SEARCH TREE: still O(n^2) --> Time limit Exceeded error\n",
    "        #https://www.geeksforgeeks.org/binary-search-tree-set-1-search-and-insertion/\n",
    "    \n",
    "        # USE BINARY SEARCH TREE ALGORITHM\n",
    "        class Node:\n",
    "            def __init__(self, val=None):\n",
    "                self.val = val\n",
    "                self.left = None\n",
    "                self.right = None\n",
    "                self.count_ge = 1 # the number of nodes in the subtree which is rooted at the current node has larger val than the current node\n",
    "            \n",
    "        def insert(node, val):\n",
    "            if node == None:\n",
    "                return Node(val)\n",
    "            if node.val == val:\n",
    "                node.count_ge += 1\n",
    "            elif node.val < val:\n",
    "                # the new node will be created with a val which is greater than the current node.val --> the current node will has one more larger node --> increases its count_ge\n",
    "                node.count_ge += 1\n",
    "                node.right = insert(node.right, val)\n",
    "            else: # val < node.val\n",
    "                node.left = insert(node.left, val)\n",
    "                \n",
    "            # return the (unchanged) node\n",
    "            return node\n",
    "        \n",
    "        def search(node, target):\n",
    "            if node == None:\n",
    "                return 0\n",
    "            if node.val == target:\n",
    "                return node.count_ge\n",
    "            elif node.val > target:\n",
    "                return node.count_ge + search(node.left, target) # count_get holds the number of larger nodes (in the SUBSTREE ROOTED at the current node) --> accumulate node.count_get + search(node.left, target)\n",
    "            else:\n",
    "                return search(node.right, target)\n",
    "            \n",
    "        \n",
    "        bst = None\n",
    "        rp_count = 0\n",
    "        for num in nums:\n",
    "            rp_count += search(bst, num*2 + 1)\n",
    "            bst = insert(bst, num)\n",
    "            \n",
    "        return rp_count"
   ]
  }
 ],
 "metadata": {
  "kernelspec": {
   "display_name": "Python 3",
   "language": "python",
   "name": "python3"
  },
  "language_info": {
   "codemirror_mode": {
    "name": "ipython",
    "version": 3
   },
   "file_extension": ".py",
   "mimetype": "text/x-python",
   "name": "python",
   "nbconvert_exporter": "python",
   "pygments_lexer": "ipython3",
   "version": "3.7.3"
  }
 },
 "nbformat": 4,
 "nbformat_minor": 2
}
