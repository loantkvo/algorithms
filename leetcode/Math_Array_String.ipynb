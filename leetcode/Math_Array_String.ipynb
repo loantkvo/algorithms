{
 "cells": [
  {
   "cell_type": "code",
   "execution_count": 1,
   "metadata": {},
   "outputs": [],
   "source": [
    "## 43. Multiply Strings\n",
    "https://leetcode.com/problems/multiply-strings/\n",
    "\n",
    "Given two non-negative integers num1 and num2 represented as strings, return the product of num1 and num2, also represented as a string.\n",
    "\n",
    "Example 1:\n",
    "\n",
    "Input: num1 = \"2\", num2 = \"3\"\n",
    "Output: \"6\"\n",
    "Example 2:\n",
    "\n",
    "Input: num1 = \"123\", num2 = \"456\"\n",
    "Output: \"56088\"\n",
    "Note:\n",
    "\n",
    "The length of both num1 and num2 is < 110.\n",
    "Both num1 and num2 contain only digits 0-9.\n",
    "Both num1 and num2 do not contain any leading zero, except the number 0 itself.\n",
    "You must not use any built-in BigInteger library or convert the inputs to integer directly.\n"
   ]
  },
  {
   "cell_type": "code",
   "execution_count": 5,
   "metadata": {},
   "outputs": [
    {
     "data": {
      "text/plain": [
       "[7]"
      ]
     },
     "execution_count": 5,
     "metadata": {},
     "output_type": "execute_result"
    }
   ],
   "source": [
    "class Solution:\n",
    "    def multiply(self, num1: str, num2: str) -> str:\n",
    "        def add_two_strings(num_a, num_b):\n",
    "            a, b = len(num_a) - 1, len(num_b) - 1\n",
    "            carry = 0\n",
    "            result = ''\n",
    "            #print(\"padding:\", result)\n",
    "            while a >= 0 or b >= 0:\n",
    "                digit_a = int(num_a[a]) if a >= 0 else 0\n",
    "                digit_b = int(num_b[b]) if b >=0 else 0\n",
    "                s = digit_a + digit_b + carry\n",
    "                if s < 10:\n",
    "                    result += str(s)\n",
    "                    carry = 0\n",
    "                else:\n",
    "                    result += str(s-10)\n",
    "                    carry = 1\n",
    "                a -= 1\n",
    "                b -= 1\n",
    "            \n",
    "            if carry == 1:\n",
    "                result = result + str(carry) \n",
    "                \n",
    "            return result[-1::-1]\n",
    "            \n",
    "        def multiply_str_and_a_digit(num, digit):\n",
    "            if digit == 0:\n",
    "                return '0'\n",
    "            elif digit == 1:\n",
    "                return num\n",
    "            else:\n",
    "                half_result = multiply_str_and_a_digit(num, digit//2)\n",
    "                if digit % 2 == 0:\n",
    "                    return add_two_strings(half_result, half_result)\n",
    "                else:\n",
    "                    return add_two_strings(add_two_strings(half_result, half_result), num)\n",
    "                \n",
    "        def pad(num, pads=0):\n",
    "            return num + '0' * pads\n",
    "                \n",
    "        len1, len2 = len(num1), len(num2)\n",
    "        if len1 < len2:\n",
    "            num1, num2 = num2, num1 \n",
    "        result_dict = dict()\n",
    "        result = '0'\n",
    "        #print(result_dict, result)\n",
    "        for i, digit in enumerate(num2[-1::-1]):\n",
    "            #print('--', i, digit, result_dict, result)\n",
    "            digit = int(digit)\n",
    "            if digit not in result_dict.keys():\n",
    "                result_dict[digit] = multiply_str_and_a_digit(num1, digit)\n",
    "            result = add_two_strings(result, pad(result_dict[digit], i))\n",
    "            \n",
    "        return result"
   ]
  },
  {
   "cell_type": "code",
   "execution_count": null,
   "metadata": {},
   "outputs": [],
   "source": []
  }
 ],
 "metadata": {
  "kernelspec": {
   "display_name": "Python 3",
   "language": "python",
   "name": "python3"
  },
  "language_info": {
   "codemirror_mode": {
    "name": "ipython",
    "version": 3
   },
   "file_extension": ".py",
   "mimetype": "text/x-python",
   "name": "python",
   "nbconvert_exporter": "python",
   "pygments_lexer": "ipython3",
   "version": "3.7.3"
  }
 },
 "nbformat": 4,
 "nbformat_minor": 2
}
