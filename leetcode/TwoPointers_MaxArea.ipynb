{
 "cells": [
  {
   "cell_type": "markdown",
   "metadata": {},
   "source": [
    "# Two Pointer Technique"
   ]
  },
  {
   "cell_type": "markdown",
   "metadata": {},
   "source": [
    "## Container With Most Water\n",
    "https://leetcode.com/problems/container-with-most-water/solution/\n",
    "Given n non-negative integers a1, a2, ..., an , where each represents a point at coordinate (i, ai). n vertical lines are drawn such that the two endpoints of line i is at (i, ai) and (i, 0). Find two lines, which together with x-axis forms a container, such that the container contains the most water.\n",
    "\n",
    "Note: You may not slant the container and n is at least 2."
   ]
  },
  {
   "cell_type": "code",
   "execution_count": null,
   "metadata": {},
   "outputs": [],
   "source": [
    "class Solution:\n",
    "    def maxArea(self, height: List[int]) -> int:\n",
    "        l = 0 # left pointer\n",
    "        r = len(height) - 1 # right pointer\n",
    "        if l == r:\n",
    "            return 0\n",
    "        \n",
    "        # initialize max area ma\n",
    "        ma = (r - l) * height[r] if (height[l] > height[r]) else (r - l) * height[l]\n",
    "        \n",
    "        while l < r:\n",
    "            if height[l] > height[r]:\n",
    "                r -= 1\n",
    "            else:\n",
    "                l += 1\n",
    "            area = (r - l) * height[r] if (height[l] > height[r]) else (r - l) * height[l]\n",
    "            if area > ma:\n",
    "                ma = area\n",
    "        return ma\n",
    "            "
   ]
  },
  {
   "cell_type": "markdown",
   "metadata": {},
   "source": [
    "## 42. Trapping Rain Water\n",
    "https://leetcode.com/problems/trapping-rain-water/\n",
    "\n",
    "Given n non-negative integers representing an elevation map where the width of each bar is 1, compute how much water it is able to trap after raining.\n",
    "\n",
    "\n",
    "The above elevation map is represented by array [0,1,0,2,1,0,1,3,2,1,2,1]. In this case, 6 units of rain water (blue section) are being trapped. Thanks Marcos for contributing this image!\n",
    "\n",
    "Example:\n",
    "\n",
    "Input: [0,1,0,2,1,0,1,3,2,1,2,1]\n",
    "Output: 6"
   ]
  },
  {
   "cell_type": "code",
   "execution_count": null,
   "metadata": {},
   "outputs": [],
   "source": [
    "class Solution:\n",
    "    def trap(self, height: List[int]) -> int:\n",
    "        '''\n",
    "        # The following codes based on the \"Approach 4\" solution: Using 2 pointers\n",
    "        # Run Time: 64ms, faster than 50.96%\n",
    "        # Memory usage: 14.5 mb, less than 5.22%\n",
    "        '''\n",
    "        n = len(height)\n",
    "        if n <= 1:\n",
    "            return 0\n",
    "        \n",
    "        result = 0\n",
    "        l, r = 0, n - 1\n",
    "        \n",
    "        max_l, max_r = height[l], height[r]\n",
    "        while l < r:\n",
    "            if height[l] < height[r]:\n",
    "                if max_l < height[l]:\n",
    "                    max_l = height[l]\n",
    "                else:\n",
    "                    result += max_l - height[l]\n",
    "                l += 1\n",
    "            else:\n",
    "                if max_r < height[r]:\n",
    "                    max_r = height[r]\n",
    "                else:\n",
    "                    result += max_r - height[r]\n",
    "                r -= 1\n",
    "        \n",
    "        return result"
   ]
  },
  {
   "cell_type": "code",
   "execution_count": null,
   "metadata": {},
   "outputs": [],
   "source": [
    "class Solution:\n",
    "    def trap(self, height: List[int]) -> int:\n",
    "        # Loan's solution: \n",
    "        # - Run time O(n): 52ms, faster than 97.03%; \n",
    "        # - Memory usage: 14.6 Mb, less than 5.01%\n",
    "        \n",
    "        # The following method divides the bar fig into blocks of \"valleys\".\n",
    "        # a valley: starts with the most left bar (\"highest left\") and \n",
    "        # ends at the first next bar that highest than its most left bar\n",
    "        \n",
    "        # contained water in each valley is calculated by substract the total\n",
    "        # heights of all the bar from the valley from the area of the rectangular\n",
    "        # defined by the left most bar and the distance/length of the valley\n",
    "        \n",
    "        n = len(height)\n",
    "        if n<=1:\n",
    "            return 0\n",
    "        \n",
    "        largest_val = 0\n",
    "        largest_val_idx = 0\n",
    "        result = 0\n",
    "        s = 0\n",
    "        for idx in range(n):\n",
    "            if height[idx] >= largest_val:\n",
    "                result += largest_val * (idx - largest_val_idx) - s\n",
    "                largest_val_idx = idx\n",
    "                largest_val = height[idx]\n",
    "                #print('--', idx, largest_val, result)\n",
    "                # sum all the bars from the largest_val_idx to the current one\n",
    "                s = height[idx]\n",
    "            else:\n",
    "                s += height[idx]\n",
    "                \n",
    "        # the last part\n",
    "        if largest_val_idx != n -1:\n",
    "            stop_idx = largest_val_idx\n",
    "            largest_val_idx = n - 1\n",
    "            largest_val = height[largest_val_idx]\n",
    "            s = 0\n",
    "            for idx in range(largest_val_idx, stop_idx - 1, -1):\n",
    "                if height[idx] >= largest_val:\n",
    "                    result += largest_val * (largest_val_idx - idx) - s\n",
    "                    largest_val_idx = idx\n",
    "                    largest_val = height[idx]\n",
    "                    #print(idx, largest_val, result)\n",
    "                    s = largest_val\n",
    "                else:\n",
    "                    s += height[idx]\n",
    "            \n",
    "        return result\n",
    "            \n",
    "        "
   ]
  },
  {
   "cell_type": "code",
   "execution_count": null,
   "metadata": {},
   "outputs": [],
   "source": []
  },
  {
   "cell_type": "code",
   "execution_count": null,
   "metadata": {},
   "outputs": [],
   "source": []
  }
 ],
 "metadata": {
  "kernelspec": {
   "display_name": "Python 3",
   "language": "python",
   "name": "python3"
  },
  "language_info": {
   "codemirror_mode": {
    "name": "ipython",
    "version": 3
   },
   "file_extension": ".py",
   "mimetype": "text/x-python",
   "name": "python",
   "nbconvert_exporter": "python",
   "pygments_lexer": "ipython3",
   "version": "3.7.3"
  }
 },
 "nbformat": 4,
 "nbformat_minor": 2
}
