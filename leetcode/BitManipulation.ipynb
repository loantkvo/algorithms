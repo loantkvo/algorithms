{
 "cells": [
  {
   "cell_type": "markdown",
   "metadata": {},
   "source": [
    "## 401. Binary Watch\n",
    "https://leetcode.com/problems/binary-watch/\n",
    "A binary watch has 4 LEDs on the top which represent the hours (0-11), and the 6 LEDs on the bottom represent the minutes (0-59).\n",
    "\n",
    "Each LED represents a zero or one, with the least significant bit on the right.\n",
    "\n",
    "\n",
    "For example, the above binary watch reads \"3:25\".\n",
    "\n",
    "Given a non-negative integer n which represents the number of LEDs that are currently on, return all possible times the watch could represent.\n",
    "\n",
    "Example:\n",
    "\n",
    "Input: n = 1\n",
    "Return: [\"1:00\", \"2:00\", \"4:00\", \"8:00\", \"0:01\", \"0:02\", \"0:04\", \"0:08\", \"0:16\", \"0:32\"]\n",
    "Note:\n",
    "\n",
    "The order of output does not matter.\n",
    "The hour must not contain a leading zero, for example \"01:00\" is not valid, it should be \"1:00\".\n",
    "The minute must be consist of two digits and may contain a leading zero, for example \"10:2\" is not valid, it should be \"10:02\"."
   ]
  },
  {
   "cell_type": "markdown",
   "metadata": {},
   "source": [
    "Runtime: 32 ms, faster than 97.47%\n",
    "Memory Usage: 13.8 MB, less than 8.33%"
   ]
  },
  {
   "cell_type": "code",
   "execution_count": null,
   "metadata": {},
   "outputs": [],
   "source": [
    "class Solution:\n",
    "    def readBinaryWatch(self, num: int) -> List[str]:\n",
    "        def gen_num(bits, set_bits): #bits >= set_bits            \n",
    "            if bits==1:\n",
    "                return [str(set_bits)]\n",
    "            elif bits == set_bits:\n",
    "                return ['1'*bits]\n",
    "            elif set_bits == 0:\n",
    "                return ['0'*bits]\n",
    "            elif bits>set_bits:\n",
    "                return ['0' + s for s in gen_num(bits-1, set_bits)] + ['1' + s for s in gen_num(bits-1, set_bits - 1)]\n",
    "               \n",
    "            \n",
    "        def convert_to_decimal_str(s, minute=False):\n",
    "            s = int(s, base=2)\n",
    "            if minute:\n",
    "                if s > 59:\n",
    "                    return None\n",
    "            else:\n",
    "                if s > 11:\n",
    "                    return None\n",
    "            result = str(s)\n",
    "            if minute and len(result)==1:\n",
    "                result = '0' + result \n",
    "            return result\n",
    "        \n",
    "        results = []\n",
    "        for n_h in range(min(num, 4) + 1):\n",
    "            n_m = num - n_h\n",
    "            if n_m > 6:\n",
    "                continue\n",
    "            hours = []\n",
    "            for hour in gen_num(4, n_h):\n",
    "                tmp = convert_to_decimal_str(hour)\n",
    "                if tmp:\n",
    "                    hours.append(tmp) \n",
    "                \n",
    "                \n",
    "            mins = []\n",
    "            for minute in gen_num(6, n_m):\n",
    "                tmp = convert_to_decimal_str(minute, True)\n",
    "                if tmp:\n",
    "                    mins.append(tmp)\n",
    "                    \n",
    "            results += [hour + \":\" + minute for hour in hours for minute in mins]\n",
    "            \n",
    "        return results\n",
    "            \n",
    "            "
   ]
  },
  {
   "cell_type": "markdown",
   "metadata": {},
   "source": [
    "## 898. Bitwise ORs of Subarrays\n",
    "Medium\n",
    "https://leetcode.com/problems/bitwise-ors-of-subarrays/\n",
    "We have an array A of non-negative integers.\n",
    "\n",
    "For every (contiguous) subarray B = [A[i], A[i+1], ..., A[j]] (with i <= j), we take the bitwise OR of all the elements in B, obtaining a result A[i] | A[i+1] | ... | A[j].\n",
    "\n",
    "Return the number of possible results.  (Results that occur more than once are only counted once in the final answer.)\n",
    "\n",
    " \n",
    "\n",
    "Example 1:\n",
    "\n",
    "Input: [0]\n",
    "Output: 1\n",
    "Explanation: \n",
    "There is only one possible result: 0.\n",
    "Example 2:\n",
    "\n",
    "Input: [1,1,2]\n",
    "Output: 3\n",
    "Explanation: \n",
    "The possible subarrays are [1], [1], [2], [1, 1], [1, 2], [1, 1, 2].\n",
    "These yield the results 1, 1, 2, 1, 3, 3.\n",
    "There are 3 unique values, so the answer is 3.\n",
    "Example 3:\n",
    "\n",
    "Input: [1,2,4]\n",
    "Output: 6\n",
    "Explanation: \n",
    "The possible results are 1, 2, 3, 4, 6, and 7.\n",
    " \n",
    "\n",
    "Note:\n",
    "\n",
    "1 <= A.length <= 50000\n",
    "0 <= A[i] <= 10^9"
   ]
  },
  {
   "cell_type": "markdown",
   "metadata": {},
   "source": [
    "Runtime: 884 ms, faster than 34.69% of Python3 online submissions for Bitwise ORs of Subarrays.\n",
    "Memory Usage: 40 MB, less than 50.00% "
   ]
  },
  {
   "cell_type": "code",
   "execution_count": null,
   "metadata": {},
   "outputs": [],
   "source": [
    "class Solution:\n",
    "    def subarrayBitwiseORs(self, A: List[int]) -> int:\n",
    "        results = set()\n",
    "        curr_set = set()\n",
    "        n = len(A)\n",
    "        for a in A:\n",
    "            # len(curr_set) <= 32 (max number of bits of each integer)\n",
    "            curr_set = {a | num for num in curr_set} | {a} \n",
    "            #print(len(curr_set))\n",
    "            results |= curr_set # results = results.union(curr_set): this will throw a Time Limit Exceeded error\n",
    "        return len(results)\n",
    "\n"
   ]
  }
 ],
 "metadata": {
  "kernelspec": {
   "display_name": "Python 3",
   "language": "python",
   "name": "python3"
  },
  "language_info": {
   "codemirror_mode": {
    "name": "ipython",
    "version": 3
   },
   "file_extension": ".py",
   "mimetype": "text/x-python",
   "name": "python",
   "nbconvert_exporter": "python",
   "pygments_lexer": "ipython3",
   "version": "3.7.3"
  }
 },
 "nbformat": 4,
 "nbformat_minor": 2
}
